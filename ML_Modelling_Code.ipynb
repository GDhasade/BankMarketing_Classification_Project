{
 "cells": [
  {
   "cell_type": "code",
   "execution_count": 31,
   "metadata": {},
   "outputs": [],
   "source": [
    "#---- Install required Libraries----\n",
    "#pip install pandas\n",
    "#pip install sklearn\n",
    "#pip install sklearn\n",
    "#pip install matplotlib\n",
    "#pip install seaborn"
   ]
  },
  {
   "cell_type": "markdown",
   "metadata": {},
   "source": [
    "# Define"
   ]
  },
  {
   "cell_type": "markdown",
   "metadata": {},
   "source": [
    "**Project Goal**\n",
    "- The data is related with direct marketing campaigns of a Portuguese banking institution. \n",
    "- The marketing campaigns were based on phone calls. \n",
    "- Often, more than one contact to the same client was required, in order to access if the product (bank term deposit) would be ('yes') or not ('no') subscribed.\n",
    "- The classification project goal is to **predict** if the client will subscribe (yes/no) a term deposit (variable y)."
   ]
  },
  {
   "cell_type": "markdown",
   "metadata": {},
   "source": [
    "**Practical Use**"
   ]
  },
  {
   "cell_type": "markdown",
   "metadata": {},
   "source": [
    "**Data Gathering**\n",
    "- There are four datasets:\n",
    "1) bank-additional-full.csv \n",
    "    - with all examples (41188) and 20 inputs\n",
    "    - ordered by date (from May 2008 to November 2010)\n",
    "2) bank-additional.csv \n",
    "    - with 10% of the examples (4119)\n",
    "    - randomly selected from 1 and 20 inputs.\n",
    "3) bank-full.csv\n",
    "    - with all examples and 17 inputs\n",
    "    - ordered by date (older version of this dataset with less inputs).\n",
    "4) bank.csv \n",
    "    - with 10% of the examples and 17 inputs\n",
    "    - randomly selected from 3 (older version of this dataset with less inputs).\n",
    "    - The smallest datasets are provided to test more computationally demanding machine learning algorithms \n",
    "\n",
    "**Selected Datasets**\n",
    "- I selected **bank-additional-full.csv** file for implementing project"
   ]
  },
  {
   "cell_type": "markdown",
   "metadata": {},
   "source": [
    "# Discover"
   ]
  },
  {
   "cell_type": "code",
   "execution_count": 34,
   "metadata": {},
   "outputs": [],
   "source": [
    "#---Import all required libraries---\n",
    "import pandas as pd\n",
    "import numpy as np\n",
    "import matplotlib.pyplot as plt\n",
    "%matplotlib inline\n",
    "import seaborn as sns"
   ]
  },
  {
   "cell_type": "markdown",
   "metadata": {},
   "source": [
    "**Data Loading**"
   ]
  },
  {
   "cell_type": "code",
   "execution_count": 12,
   "metadata": {},
   "outputs": [],
   "source": [
    "DataFrame = pd.read_csv(\"/Users/ganesh_dhasade/Documents/GitHub/BankMarketing_Classification_Project/Dataset/bank-additional/bank-additional-full.csv\", sep = ';')\n"
   ]
  },
  {
   "cell_type": "code",
   "execution_count": 13,
   "metadata": {},
   "outputs": [
    {
     "data": {
      "text/html": [
       "<div>\n",
       "<style scoped>\n",
       "    .dataframe tbody tr th:only-of-type {\n",
       "        vertical-align: middle;\n",
       "    }\n",
       "\n",
       "    .dataframe tbody tr th {\n",
       "        vertical-align: top;\n",
       "    }\n",
       "\n",
       "    .dataframe thead th {\n",
       "        text-align: right;\n",
       "    }\n",
       "</style>\n",
       "<table border=\"1\" class=\"dataframe\">\n",
       "  <thead>\n",
       "    <tr style=\"text-align: right;\">\n",
       "      <th></th>\n",
       "      <th>age</th>\n",
       "      <th>job</th>\n",
       "      <th>marital</th>\n",
       "      <th>education</th>\n",
       "      <th>default</th>\n",
       "      <th>housing</th>\n",
       "      <th>loan</th>\n",
       "      <th>contact</th>\n",
       "      <th>month</th>\n",
       "      <th>day_of_week</th>\n",
       "      <th>...</th>\n",
       "      <th>campaign</th>\n",
       "      <th>pdays</th>\n",
       "      <th>previous</th>\n",
       "      <th>poutcome</th>\n",
       "      <th>emp.var.rate</th>\n",
       "      <th>cons.price.idx</th>\n",
       "      <th>cons.conf.idx</th>\n",
       "      <th>euribor3m</th>\n",
       "      <th>nr.employed</th>\n",
       "      <th>y</th>\n",
       "    </tr>\n",
       "  </thead>\n",
       "  <tbody>\n",
       "    <tr>\n",
       "      <th>0</th>\n",
       "      <td>56</td>\n",
       "      <td>housemaid</td>\n",
       "      <td>married</td>\n",
       "      <td>basic.4y</td>\n",
       "      <td>no</td>\n",
       "      <td>no</td>\n",
       "      <td>no</td>\n",
       "      <td>telephone</td>\n",
       "      <td>may</td>\n",
       "      <td>mon</td>\n",
       "      <td>...</td>\n",
       "      <td>1</td>\n",
       "      <td>999</td>\n",
       "      <td>0</td>\n",
       "      <td>nonexistent</td>\n",
       "      <td>1.1</td>\n",
       "      <td>93.994</td>\n",
       "      <td>-36.4</td>\n",
       "      <td>4.857</td>\n",
       "      <td>5191.0</td>\n",
       "      <td>no</td>\n",
       "    </tr>\n",
       "    <tr>\n",
       "      <th>1</th>\n",
       "      <td>57</td>\n",
       "      <td>services</td>\n",
       "      <td>married</td>\n",
       "      <td>high.school</td>\n",
       "      <td>unknown</td>\n",
       "      <td>no</td>\n",
       "      <td>no</td>\n",
       "      <td>telephone</td>\n",
       "      <td>may</td>\n",
       "      <td>mon</td>\n",
       "      <td>...</td>\n",
       "      <td>1</td>\n",
       "      <td>999</td>\n",
       "      <td>0</td>\n",
       "      <td>nonexistent</td>\n",
       "      <td>1.1</td>\n",
       "      <td>93.994</td>\n",
       "      <td>-36.4</td>\n",
       "      <td>4.857</td>\n",
       "      <td>5191.0</td>\n",
       "      <td>no</td>\n",
       "    </tr>\n",
       "    <tr>\n",
       "      <th>2</th>\n",
       "      <td>37</td>\n",
       "      <td>services</td>\n",
       "      <td>married</td>\n",
       "      <td>high.school</td>\n",
       "      <td>no</td>\n",
       "      <td>yes</td>\n",
       "      <td>no</td>\n",
       "      <td>telephone</td>\n",
       "      <td>may</td>\n",
       "      <td>mon</td>\n",
       "      <td>...</td>\n",
       "      <td>1</td>\n",
       "      <td>999</td>\n",
       "      <td>0</td>\n",
       "      <td>nonexistent</td>\n",
       "      <td>1.1</td>\n",
       "      <td>93.994</td>\n",
       "      <td>-36.4</td>\n",
       "      <td>4.857</td>\n",
       "      <td>5191.0</td>\n",
       "      <td>no</td>\n",
       "    </tr>\n",
       "    <tr>\n",
       "      <th>3</th>\n",
       "      <td>40</td>\n",
       "      <td>admin.</td>\n",
       "      <td>married</td>\n",
       "      <td>basic.6y</td>\n",
       "      <td>no</td>\n",
       "      <td>no</td>\n",
       "      <td>no</td>\n",
       "      <td>telephone</td>\n",
       "      <td>may</td>\n",
       "      <td>mon</td>\n",
       "      <td>...</td>\n",
       "      <td>1</td>\n",
       "      <td>999</td>\n",
       "      <td>0</td>\n",
       "      <td>nonexistent</td>\n",
       "      <td>1.1</td>\n",
       "      <td>93.994</td>\n",
       "      <td>-36.4</td>\n",
       "      <td>4.857</td>\n",
       "      <td>5191.0</td>\n",
       "      <td>no</td>\n",
       "    </tr>\n",
       "    <tr>\n",
       "      <th>4</th>\n",
       "      <td>56</td>\n",
       "      <td>services</td>\n",
       "      <td>married</td>\n",
       "      <td>high.school</td>\n",
       "      <td>no</td>\n",
       "      <td>no</td>\n",
       "      <td>yes</td>\n",
       "      <td>telephone</td>\n",
       "      <td>may</td>\n",
       "      <td>mon</td>\n",
       "      <td>...</td>\n",
       "      <td>1</td>\n",
       "      <td>999</td>\n",
       "      <td>0</td>\n",
       "      <td>nonexistent</td>\n",
       "      <td>1.1</td>\n",
       "      <td>93.994</td>\n",
       "      <td>-36.4</td>\n",
       "      <td>4.857</td>\n",
       "      <td>5191.0</td>\n",
       "      <td>no</td>\n",
       "    </tr>\n",
       "  </tbody>\n",
       "</table>\n",
       "<p>5 rows × 21 columns</p>\n",
       "</div>"
      ],
      "text/plain": [
       "   age        job  marital    education  default housing loan    contact  \\\n",
       "0   56  housemaid  married     basic.4y       no      no   no  telephone   \n",
       "1   57   services  married  high.school  unknown      no   no  telephone   \n",
       "2   37   services  married  high.school       no     yes   no  telephone   \n",
       "3   40     admin.  married     basic.6y       no      no   no  telephone   \n",
       "4   56   services  married  high.school       no      no  yes  telephone   \n",
       "\n",
       "  month day_of_week  ...  campaign  pdays  previous     poutcome emp.var.rate  \\\n",
       "0   may         mon  ...         1    999         0  nonexistent          1.1   \n",
       "1   may         mon  ...         1    999         0  nonexistent          1.1   \n",
       "2   may         mon  ...         1    999         0  nonexistent          1.1   \n",
       "3   may         mon  ...         1    999         0  nonexistent          1.1   \n",
       "4   may         mon  ...         1    999         0  nonexistent          1.1   \n",
       "\n",
       "   cons.price.idx  cons.conf.idx  euribor3m  nr.employed   y  \n",
       "0          93.994          -36.4      4.857       5191.0  no  \n",
       "1          93.994          -36.4      4.857       5191.0  no  \n",
       "2          93.994          -36.4      4.857       5191.0  no  \n",
       "3          93.994          -36.4      4.857       5191.0  no  \n",
       "4          93.994          -36.4      4.857       5191.0  no  \n",
       "\n",
       "[5 rows x 21 columns]"
      ]
     },
     "execution_count": 13,
     "metadata": {},
     "output_type": "execute_result"
    }
   ],
   "source": [
    "DataFrame.head()"
   ]
  },
  {
   "cell_type": "code",
   "execution_count": 17,
   "metadata": {},
   "outputs": [
    {
     "data": {
      "text/plain": [
       "(41188, 21)"
      ]
     },
     "execution_count": 17,
     "metadata": {},
     "output_type": "execute_result"
    }
   ],
   "source": [
    "DataFrame.shape"
   ]
  },
  {
   "cell_type": "markdown",
   "metadata": {},
   "source": [
    "### Data Understanding\n",
    "Input variables:  \n",
    "**bank client data:**\n",
    "1. age (numeric)\n",
    "2. job - type of job (categorical):\n",
    "    - 'admin.','blue-collar','entrepreneur','housemaid','management','retired','self-  employed', 'services', 'student', 'technician', 'unemployed', 'unknown'\n",
    "        \n",
    "3. marital - maritail status (categorical):\n",
    "    - 'divorced','married','single','unknown'; note: 'divorced' means divorced or widowed\n",
    "        \n",
    "4. education (categorical):\n",
    "    - 'basic.4y','basic.6y','basic.9y','high.school','illiterate','professional.course','university.degree','unknown')\n",
    "5. default - has credit in default? (categorical):\n",
    "    - 'no','yes','unknown'\n",
    "6. housing - has housing loan? (categorical):\n",
    "    - 'no','yes','unknown'\n",
    "7. loan- has personal loan? (categorical): \n",
    "    - 'no','yes','unknown'\n",
    "\n",
    "**related with the last contact of the current campaign:**\n",
    "8. contact - contact communication type (categorical): \n",
    "    - 'cellular','telephone'\n",
    "9. month - last contact month of year (categorical): \n",
    "    - 'jan', 'feb', 'mar', ..., 'nov', 'dec'\n",
    "10. day_of_week - last contact day of the week (categorical): \n",
    "    - 'mon','tue','wed','thu','fri'\n",
    "11. duration: last contact duration, in seconds (numeric):\n",
    "    - Important note: this attribute highly affects the output target (e.g., if duration=0 then y='no'). Yet, the duration is not known before a call is performed. Also, after the end of the call y is obviously known. Thus, this input should only be included for benchmark purposes and should be discarded if the intention is to have a realistic predictive model.\n",
    "    \n",
    "**other attributes:**\n",
    "12. campaign - includes last contact (numeric): \n",
    "    - number of contacts performed during this campaign and for this client \n",
    "13. pdays - 999 means client was not previously contacted (numeric): \n",
    "    - number of days that passed by after the client was last contacted from a previous campaign\n",
    "14. previous (numeric): \n",
    "    - number of contacts performed before this campaign and for this client \n",
    "15. poutcome - outcome of the previous marketing campaign (categorical): \n",
    "    - 'failure','nonexistent','success'\n",
    "    \n",
    "**social and economic context attributes**\n",
    "16. emp.var.rate - employment variation rate (numeric): \n",
    "    - quarterly indicator \n",
    "17. cons.price.idx (numeric): \n",
    "    - consumer price index - monthly indicator \n",
    "18. cons.conf.idx (numeric): \n",
    "    - consumer confidence index - monthly indicator \n",
    "19. euribor3m (numeric): \n",
    "    - euribor 3 month rate - daily indicator \n",
    "20. nr.employed (numeric): \n",
    "    - number of employees - quarterly indicator \n",
    "\n",
    "**Output variable (desired target):**\n",
    "21. y - has the client subscribed a term deposit? (binary): \n",
    "    - 'yes','no'"
   ]
  },
  {
   "cell_type": "markdown",
   "metadata": {},
   "source": [
    "### Clean DataSet"
   ]
  },
  {
   "cell_type": "code",
   "execution_count": 147,
   "metadata": {},
   "outputs": [],
   "source": [
    "#Functions used while cleaning Dataset\n",
    "import matplotlib.gridspec as gridspec\n",
    "\n",
    "def Check_Null_Values(dataframe):\n",
    "    print(dataframe.info())\n",
    "    sns.heatmap(dataframe.isnull(),yticklabels=False, cmap='viridis').set_title('Null Values in each columns')\n",
    "    \n",
    "    \n",
    "def Check_Balance_Specific_Col(dataframe, Col_Names):\n",
    "    #Col_Names = dataframe.columns.tolist()\n",
    "    plt.figure(figsize=(9,3))\n",
    "    for col in Col_Names:\n",
    "        ValCount = dataframe[col].value_counts()\n",
    "        PerCount = (ValCount / ValCount.sum())*100 \n",
    "        plt.bar(ValCount.index,PerCount)\n",
    "        #plt.xticks(ValCount.index,ValCount.index.values)\n",
    "        plt.xticks(PerCount.index,PerCount.index.values)\n",
    "        plt.ylabel(\"Frequency\")\n",
    "        plt.title('Distribution of Data')\n",
    "        plt.show()\n",
    "        print(\"Feature Name: {}: \\n {}\".format(col,ValCount))\n",
    "        print(\"Feature Name: {}: \\n Percent Count \\n{}\".format(col,PerCount))\n",
    "        \n",
    "def Check_Balance2(dataframe):\n",
    "    Col_Names = dataframe.columns.tolist()\n",
    "    nrows = int(len(Col_Names)/2) +1\n",
    "    fig = plt.figure()\n",
    "    fig, axes = plt.subplots(nrows=nrows, ncols=2, figsize=(15,40))\n",
    "    fig.subplots_adjust(hspace=0.5)\n",
    "    fig.suptitle('Distributions of dataset Features')\n",
    "    for ax, col in zip(axes.flatten(), Col_Names):\n",
    "        ValCount = dataframe[col].value_counts()\n",
    "        ax.bar(ValCount.index,ValCount)\n",
    "        ax.set_xticks(ValCount.index.values)\n",
    "        #axs.set_xticklabels(\"Frequency\")\n",
    "        #ax.show()\n",
    "    \n",
    "    "
   ]
  },
  {
   "cell_type": "code",
   "execution_count": null,
   "metadata": {},
   "outputs": [],
   "source": [
    "Col = DataFrame1.columns.tolist()\n",
    "int(len(Col)/2) +1"
   ]
  },
  {
   "cell_type": "code",
   "execution_count": 25,
   "metadata": {},
   "outputs": [],
   "source": [
    "DataFrame1 = DataFrame.copy()"
   ]
  },
  {
   "cell_type": "code",
   "execution_count": 20,
   "metadata": {},
   "outputs": [
    {
     "data": {
      "text/plain": [
       "(41188, 21)"
      ]
     },
     "execution_count": 20,
     "metadata": {},
     "output_type": "execute_result"
    }
   ],
   "source": [
    "DataFrame1.shape"
   ]
  },
  {
   "cell_type": "code",
   "execution_count": 22,
   "metadata": {},
   "outputs": [
    {
     "data": {
      "text/plain": [
       "age                 int64\n",
       "job                object\n",
       "marital            object\n",
       "education          object\n",
       "default            object\n",
       "housing            object\n",
       "loan               object\n",
       "contact            object\n",
       "month              object\n",
       "day_of_week        object\n",
       "duration            int64\n",
       "campaign            int64\n",
       "pdays               int64\n",
       "previous            int64\n",
       "poutcome           object\n",
       "emp.var.rate      float64\n",
       "cons.price.idx    float64\n",
       "cons.conf.idx     float64\n",
       "euribor3m         float64\n",
       "nr.employed       float64\n",
       "y                  object\n",
       "dtype: object"
      ]
     },
     "execution_count": 22,
     "metadata": {},
     "output_type": "execute_result"
    }
   ],
   "source": [
    "DataFrame1.dtypes"
   ]
  },
  {
   "cell_type": "code",
   "execution_count": 42,
   "metadata": {},
   "outputs": [
    {
     "name": "stdout",
     "output_type": "stream",
     "text": [
      "<class 'pandas.core.frame.DataFrame'>\n",
      "RangeIndex: 41188 entries, 0 to 41187\n",
      "Data columns (total 21 columns):\n",
      " #   Column          Non-Null Count  Dtype  \n",
      "---  ------          --------------  -----  \n",
      " 0   age             41188 non-null  int64  \n",
      " 1   job             41188 non-null  object \n",
      " 2   marital         41188 non-null  object \n",
      " 3   education       41188 non-null  object \n",
      " 4   default         41188 non-null  object \n",
      " 5   housing         41188 non-null  object \n",
      " 6   loan            41188 non-null  object \n",
      " 7   contact         41188 non-null  object \n",
      " 8   month           41188 non-null  object \n",
      " 9   day_of_week     41188 non-null  object \n",
      " 10  duration        41188 non-null  int64  \n",
      " 11  campaign        41188 non-null  int64  \n",
      " 12  pdays           41188 non-null  int64  \n",
      " 13  previous        41188 non-null  int64  \n",
      " 14  poutcome        41188 non-null  object \n",
      " 15  emp.var.rate    41188 non-null  float64\n",
      " 16  cons.price.idx  41188 non-null  float64\n",
      " 17  cons.conf.idx   41188 non-null  float64\n",
      " 18  euribor3m       41188 non-null  float64\n",
      " 19  nr.employed     41188 non-null  float64\n",
      " 20  y               41188 non-null  object \n",
      "dtypes: float64(5), int64(5), object(11)\n",
      "memory usage: 6.6+ MB\n",
      "None\n"
     ]
    },
    {
     "data": {
      "image/png": "[encoded data removed]",
      "text/plain": [
       "<Figure size 432x288 with 2 Axes>"
      ]
     },
     "metadata": {
      "needs_background": "light"
     },
     "output_type": "display_data"
    }
   ],
   "source": [
    "Check_Null_Values(DataFrame1)"
   ]
  },
  {
   "cell_type": "markdown",
   "metadata": {},
   "source": [
    "**Observation**\n",
    "- Dataset is clean there zero null values present."
   ]
  },
  {
   "cell_type": "markdown",
   "metadata": {},
   "source": [
    "**Check dataset Balanced/Imbalanced**"
   ]
  },
  {
   "cell_type": "code",
   "execution_count": 148,
   "metadata": {},
   "outputs": [
    {
     "data": {
      "image/png": "[encoded data removed]",
      "text/plain": [
       "<Figure size 648x216 with 1 Axes>"
      ]
     },
     "metadata": {
      "needs_background": "light"
     },
     "output_type": "display_data"
    },
    {
     "name": "stdout",
     "output_type": "stream",
     "text": [
      "Feature Name: y: \n",
      " no     36548\n",
      "yes     4640\n",
      "Name: y, dtype: int64\n",
      "Feature Name: y: \n",
      " Percent Count \n",
      "no     88.734583\n",
      "yes    11.265417\n",
      "Name: y, dtype: float64\n"
     ]
    }
   ],
   "source": [
    "Col = [\"y\"]\n",
    "Check_Balance_Specific_Col(DataFrame1, Col)"
   ]
  },
  {
   "cell_type": "code",
   "execution_count": 142,
   "metadata": {},
   "outputs": [
    {
     "name": "stdout",
     "output_type": "stream",
     "text": [
      "no     36548\n",
      "yes     4640\n",
      "Name: y, dtype: int64\n",
      "no     88.734583\n",
      "yes    11.265417\n",
      "Name: y, dtype: float64\n"
     ]
    }
   ],
   "source": [
    "a = DataFrame1[\"y\"].value_counts()\n",
    "print(a)\n",
    "percent = (a / a.sum())*100\n",
    "print(percent)"
   ]
  },
  {
   "cell_type": "markdown",
   "metadata": {},
   "source": [
    "**Observation**\n",
    "- Data is imbalanced.\n",
    "- Need to balance.\n",
    "- Before that need to handle categorical vairables."
   ]
  },
  {
   "cell_type": "markdown",
   "metadata": {},
   "source": [
    "**Prepare Dataset**"
   ]
  },
  {
   "cell_type": "code",
   "execution_count": 159,
   "metadata": {},
   "outputs": [],
   "source": [
    "DataFrame2 = DataFrame1.copy()"
   ]
  },
  {
   "cell_type": "code",
   "execution_count": 164,
   "metadata": {},
   "outputs": [
    {
     "data": {
      "text/plain": [
       "age                 int64\n",
       "job                object\n",
       "marital            object\n",
       "education          object\n",
       "default            object\n",
       "housing            object\n",
       "loan               object\n",
       "contact            object\n",
       "month              object\n",
       "day_of_week        object\n",
       "duration            int64\n",
       "campaign            int64\n",
       "pdays               int64\n",
       "previous            int64\n",
       "poutcome           object\n",
       "emp.var.rate      float64\n",
       "cons.price.idx    float64\n",
       "cons.conf.idx     float64\n",
       "euribor3m         float64\n",
       "nr.employed       float64\n",
       "y                  object\n",
       "dtype: object"
      ]
     },
     "execution_count": 164,
     "metadata": {},
     "output_type": "execute_result"
    }
   ],
   "source": [
    "DataFrame2.dtypes"
   ]
  },
  {
   "cell_type": "code",
   "execution_count": 175,
   "metadata": {},
   "outputs": [],
   "source": [
    "def Count_CatVar(dataframe):\n",
    "    CatCol = dataframe.select_dtypes(include=['object']).columns.tolist()\n",
    "    #fig = plt.figure(figsize=(14, 18))\n",
    "\n",
    "    for index, col in enumerate(CatCol):\n",
    "        print(\"------------\",col,\" value counts---------------------\")\n",
    "        print(dataframe[col].value_counts())\n",
    "        #fig.add_subplot(3, 2, index+1)\n",
    "        #dataframe[col].value_counts()[:20].plot(kind='bar', title=col, color = \"royalblue\")\n",
    "        #plt.tight_layout()\n",
    "        \n",
    "    print(\"\\n\\n------------Number of categories in each columns---------------------\")\n",
    "    for i in CatCol:\n",
    "        a = dataframe[i].unique()\n",
    "        print(\"There are {} categories in {}\".format(len(a),i))"
   ]
  },
  {
   "cell_type": "code",
   "execution_count": 176,
   "metadata": {},
   "outputs": [
    {
     "name": "stdout",
     "output_type": "stream",
     "text": [
      "------------ job  value counts---------------------\n",
      "admin.           10422\n",
      "blue-collar       9254\n",
      "technician        6743\n",
      "services          3969\n",
      "management        2924\n",
      "retired           1720\n",
      "entrepreneur      1456\n",
      "self-employed     1421\n",
      "housemaid         1060\n",
      "unemployed        1014\n",
      "student            875\n",
      "unknown            330\n",
      "Name: job, dtype: int64\n",
      "------------ marital  value counts---------------------\n",
      "married     24928\n",
      "single      11568\n",
      "divorced     4612\n",
      "unknown        80\n",
      "Name: marital, dtype: int64\n",
      "------------ education  value counts---------------------\n",
      "university.degree      12168\n",
      "high.school             9515\n",
      "basic.9y                6045\n",
      "professional.course     5243\n",
      "basic.4y                4176\n",
      "basic.6y                2292\n",
      "unknown                 1731\n",
      "illiterate                18\n",
      "Name: education, dtype: int64\n",
      "------------ default  value counts---------------------\n",
      "no         32588\n",
      "unknown     8597\n",
      "yes            3\n",
      "Name: default, dtype: int64\n",
      "------------ housing  value counts---------------------\n",
      "yes        21576\n",
      "no         18622\n",
      "unknown      990\n",
      "Name: housing, dtype: int64\n",
      "------------ loan  value counts---------------------\n",
      "no         33950\n",
      "yes         6248\n",
      "unknown      990\n",
      "Name: loan, dtype: int64\n",
      "------------ contact  value counts---------------------\n",
      "cellular     26144\n",
      "telephone    15044\n",
      "Name: contact, dtype: int64\n",
      "------------ month  value counts---------------------\n",
      "may    13769\n",
      "jul     7174\n",
      "aug     6178\n",
      "jun     5318\n",
      "nov     4101\n",
      "apr     2632\n",
      "oct      718\n",
      "sep      570\n",
      "mar      546\n",
      "dec      182\n",
      "Name: month, dtype: int64\n",
      "------------ day_of_week  value counts---------------------\n",
      "thu    8623\n",
      "mon    8514\n",
      "wed    8134\n",
      "tue    8090\n",
      "fri    7827\n",
      "Name: day_of_week, dtype: int64\n",
      "------------ poutcome  value counts---------------------\n",
      "nonexistent    35563\n",
      "failure         4252\n",
      "success         1373\n",
      "Name: poutcome, dtype: int64\n",
      "------------ y  value counts---------------------\n",
      "no     36548\n",
      "yes     4640\n",
      "Name: y, dtype: int64\n",
      "\n",
      "\n",
      "------------Number of categories in each columns---------------------\n",
      "There are 12 categories in job\n",
      "There are 4 categories in marital\n",
      "There are 8 categories in education\n",
      "There are 3 categories in default\n",
      "There are 3 categories in housing\n",
      "There are 3 categories in loan\n",
      "There are 2 categories in contact\n",
      "There are 10 categories in month\n",
      "There are 5 categories in day_of_week\n",
      "There are 3 categories in poutcome\n",
      "There are 2 categories in y\n"
     ]
    }
   ],
   "source": [
    "Count_CatVar(DataFrame2)"
   ]
  },
  {
   "cell_type": "markdown",
   "metadata": {},
   "source": [
    "## Analysis\n",
    "##### From above results we can infer below information for dataset:\n",
    "- There are 11 categorical column and each have \n",
    "    1. 12 categories in job\n",
    "    2. 4 categories in marital\n",
    "    3. 8 categories in education\n",
    "    4. 3 categories in default\n",
    "    5. 3 categories in housing\n",
    "    6. 3 categories in loan\n",
    "    7. 2 categories in contact\n",
    "    8. 10 categories in month\n",
    "    9. 5 categories in day_of_week\n",
    "    10. 3 categories in poutcome\n",
    "    11. 2 categories in y\n",
    "    \n",
    "- It means total 53 dummies will be created (exclude target col)\n",
    "- But we use one hot encoding and remove one category from each category to reduce 10 more features\n",
    "- Hence, total 43 new features(dummies) will be created.\n",
    "- Already there are 10 integer/float\n",
    "   - 10 integer columns + 43 dummies\n",
    "   - Hence, total 53 features will be there."
   ]
  },
  {
   "cell_type": "code",
   "execution_count": 184,
   "metadata": {},
   "outputs": [],
   "source": [
    "#as we dont want to create dummies of target vairable\n",
    "DataFrame3 = DataFrame2.drop(['y'], axis = 1)\n",
    "DataFrame3 = pd.get_dummies(DataFrame3, drop_first=True)"
   ]
  },
  {
   "cell_type": "code",
   "execution_count": 185,
   "metadata": {},
   "outputs": [
    {
     "data": {
      "text/plain": [
       "(41188, 53)"
      ]
     },
     "execution_count": 185,
     "metadata": {},
     "output_type": "execute_result"
    }
   ],
   "source": [
    "DataFrame3.shape"
   ]
  },
  {
   "cell_type": "markdown",
   "metadata": {},
   "source": [
    "**Dataset ready to handle imbalanced**"
   ]
  },
  {
   "cell_type": "markdown",
   "metadata": {},
   "source": [
    "#### Handle Imbalanced Dataset"
   ]
  },
  {
   "cell_type": "code",
   "execution_count": 187,
   "metadata": {},
   "outputs": [],
   "source": [
    "X = DataFrame3\n",
    "Y = DataFrame2['y']"
   ]
  },
  {
   "cell_type": "code",
   "execution_count": 188,
   "metadata": {},
   "outputs": [
    {
     "name": "stdout",
     "output_type": "stream",
     "text": [
      "(41188, 53) (41188,)\n"
     ]
    }
   ],
   "source": [
    "print(X.shape, Y.shape)"
   ]
  },
  {
   "cell_type": "code",
   "execution_count": 189,
   "metadata": {},
   "outputs": [],
   "source": [
    "from imblearn.combine import SMOTETomek"
   ]
  },
  {
   "cell_type": "code",
   "execution_count": 190,
   "metadata": {},
   "outputs": [],
   "source": [
    "smk = SMOTETomek(random_state = 42)"
   ]
  },
  {
   "cell_type": "code",
   "execution_count": 191,
   "metadata": {},
   "outputs": [],
   "source": [
    "X_res, Y_res = smk.fit_sample(X,Y)"
   ]
  },
  {
   "cell_type": "code",
   "execution_count": 192,
   "metadata": {},
   "outputs": [
    {
     "name": "stdout",
     "output_type": "stream",
     "text": [
      "(72498, 53) (72498,)\n"
     ]
    }
   ],
   "source": [
    "print(X_res.shape, Y_res.shape)"
   ]
  },
  {
   "cell_type": "code",
   "execution_count": 203,
   "metadata": {},
   "outputs": [],
   "source": [
    "from collections import Counter"
   ]
  },
  {
   "cell_type": "code",
   "execution_count": 209,
   "metadata": {},
   "outputs": [
    {
     "name": "stdout",
     "output_type": "stream",
     "text": [
      "Original dataset shape Counter({'no': 36548, 'yes': 4640})\n",
      "Sampled dataset shape Counter({'no': 36249, 'yes': 36249})\n"
     ]
    }
   ],
   "source": [
    "print(\"Original dataset shape {}\".format(Counter(Y)))\n",
    "print(\"Sampled dataset shape {}\".format(Counter(Y_res)))"
   ]
  },
  {
   "cell_type": "markdown",
   "metadata": {},
   "source": [
    "# Development"
   ]
  },
  {
   "cell_type": "code",
   "execution_count": null,
   "metadata": {},
   "outputs": [],
   "source": [
    "#-------Establish Base Model ---------"
   ]
  },
  {
   "cell_type": "code",
   "execution_count": null,
   "metadata": {},
   "outputs": [],
   "source": []
  },
  {
   "cell_type": "code",
   "execution_count": null,
   "metadata": {},
   "outputs": [],
   "source": []
  },
  {
   "cell_type": "code",
   "execution_count": null,
   "metadata": {},
   "outputs": [],
   "source": []
  },
  {
   "cell_type": "code",
   "execution_count": null,
   "metadata": {},
   "outputs": [],
   "source": []
  },
  {
   "cell_type": "code",
   "execution_count": null,
   "metadata": {},
   "outputs": [],
   "source": []
  },
  {
   "cell_type": "markdown",
   "metadata": {},
   "source": [
    "# Deployment"
   ]
  },
  {
   "cell_type": "code",
   "execution_count": null,
   "metadata": {},
   "outputs": [],
   "source": []
  },
  {
   "cell_type": "code",
   "execution_count": null,
   "metadata": {},
   "outputs": [],
   "source": []
  },
  {
   "cell_type": "code",
   "execution_count": null,
   "metadata": {},
   "outputs": [],
   "source": []
  },
  {
   "cell_type": "code",
   "execution_count": null,
   "metadata": {},
   "outputs": [],
   "source": []
  },
  {
   "cell_type": "code",
   "execution_count": null,
   "metadata": {},
   "outputs": [],
   "source": []
  },
  {
   "cell_type": "code",
   "execution_count": null,
   "metadata": {},
   "outputs": [],
   "source": []
  }
 ],
 "metadata": {
  "kernelspec": {
   "display_name": "Python 3",
   "language": "python",
   "name": "python3"
  },
  "language_info": {
   "codemirror_mode": {
    "name": "ipython",
    "version": 3
   },
   "file_extension": ".py",
   "mimetype": "text/x-python",
   "name": "python",
   "nbconvert_exporter": "python",
   "pygments_lexer": "ipython3",
   "version": "3.7.7"
  }
 },
 "nbformat": 4,
 "nbformat_minor": 4
}
