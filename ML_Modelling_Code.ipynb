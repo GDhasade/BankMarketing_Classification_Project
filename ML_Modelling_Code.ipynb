{
 "cells": [
  {
   "cell_type": "code",
   "execution_count": 31,
   "metadata": {},
   "outputs": [],
   "source": [
    "#---- Install required Libraries----\n",
    "#pip install pandas\n",
    "#pip install sklearn\n",
    "#pip install sklearn\n",
    "#pip install matplotlib\n",
    "#pip install seaborn"
   ]
  },
  {
   "cell_type": "markdown",
   "metadata": {},
   "source": [
    "# Define"
   ]
  },
  {
   "cell_type": "markdown",
   "metadata": {},
   "source": [
    "**Project Goal**\n",
    "- The data is related with direct marketing campaigns of a Portuguese banking institution. \n",
    "- The marketing campaigns were based on phone calls. \n",
    "- Often, more than one contact to the same client was required, in order to access if the product (bank term deposit) would be ('yes') or not ('no') subscribed.\n",
    "- The classification project goal is to **predict** if the client will subscribe (yes/no) a term deposit (variable y)."
   ]
  },
  {
   "cell_type": "markdown",
   "metadata": {},
   "source": [
    "**Practical Use**"
   ]
  },
  {
   "cell_type": "markdown",
   "metadata": {},
   "source": [
    "**Data Gathering**\n",
    "- There are four datasets:\n",
    "1) bank-additional-full.csv \n",
    "    - with all examples (41188) and 20 inputs\n",
    "    - ordered by date (from May 2008 to November 2010)\n",
    "2) bank-additional.csv \n",
    "    - with 10% of the examples (4119)\n",
    "    - randomly selected from 1 and 20 inputs.\n",
    "3) bank-full.csv\n",
    "    - with all examples and 17 inputs\n",
    "    - ordered by date (older version of this dataset with less inputs).\n",
    "4) bank.csv \n",
    "    - with 10% of the examples and 17 inputs\n",
    "    - randomly selected from 3 (older version of this dataset with less inputs).\n",
    "    - The smallest datasets are provided to test more computationally demanding machine learning algorithms \n",
    "\n",
    "**Selected Datasets**\n",
    "- I selected **bank-additional-full.csv** file for implementing project"
   ]
  },
  {
   "cell_type": "markdown",
   "metadata": {},
   "source": [
    "# Discover"
   ]
  },
  {
   "cell_type": "code",
   "execution_count": 3,
   "metadata": {},
   "outputs": [],
   "source": [
    "#---Import all required libraries---\n",
    "import pandas as pd\n",
    "import numpy as np\n",
    "import matplotlib.pyplot as plt\n",
    "%matplotlib inline\n",
    "import seaborn as sns"
   ]
  },
  {
   "cell_type": "markdown",
   "metadata": {},
   "source": [
    "**Data Loading**"
   ]
  },
  {
   "cell_type": "code",
   "execution_count": 4,
   "metadata": {},
   "outputs": [],
   "source": [
    "TrainDataFrame = pd.read_csv(\"/Users/ganesh_dhasade/Documents/GitHub/BankMarketing_Classification_Project/Dataset/bank-additional/bank-additional-full.csv\", sep = ';')\n",
    "TestDataFrame = pd.read_csv(\"/Users/ganesh_dhasade/Documents/GitHub/BankMarketing_Classification_Project/Dataset/bank-additional/bank-additional.csv\", sep = ';')\n"
   ]
  },
  {
   "cell_type": "code",
   "execution_count": 5,
   "metadata": {},
   "outputs": [
    {
     "data": {
      "text/html": [
       "<div>\n",
       "<style scoped>\n",
       "    .dataframe tbody tr th:only-of-type {\n",
       "        vertical-align: middle;\n",
       "    }\n",
       "\n",
       "    .dataframe tbody tr th {\n",
       "        vertical-align: top;\n",
       "    }\n",
       "\n",
       "    .dataframe thead th {\n",
       "        text-align: right;\n",
       "    }\n",
       "</style>\n",
       "<table border=\"1\" class=\"dataframe\">\n",
       "  <thead>\n",
       "    <tr style=\"text-align: right;\">\n",
       "      <th></th>\n",
       "      <th>age</th>\n",
       "      <th>job</th>\n",
       "      <th>marital</th>\n",
       "      <th>education</th>\n",
       "      <th>default</th>\n",
       "      <th>housing</th>\n",
       "      <th>loan</th>\n",
       "      <th>contact</th>\n",
       "      <th>month</th>\n",
       "      <th>day_of_week</th>\n",
       "      <th>...</th>\n",
       "      <th>campaign</th>\n",
       "      <th>pdays</th>\n",
       "      <th>previous</th>\n",
       "      <th>poutcome</th>\n",
       "      <th>emp.var.rate</th>\n",
       "      <th>cons.price.idx</th>\n",
       "      <th>cons.conf.idx</th>\n",
       "      <th>euribor3m</th>\n",
       "      <th>nr.employed</th>\n",
       "      <th>y</th>\n",
       "    </tr>\n",
       "  </thead>\n",
       "  <tbody>\n",
       "    <tr>\n",
       "      <th>0</th>\n",
       "      <td>56</td>\n",
       "      <td>housemaid</td>\n",
       "      <td>married</td>\n",
       "      <td>basic.4y</td>\n",
       "      <td>no</td>\n",
       "      <td>no</td>\n",
       "      <td>no</td>\n",
       "      <td>telephone</td>\n",
       "      <td>may</td>\n",
       "      <td>mon</td>\n",
       "      <td>...</td>\n",
       "      <td>1</td>\n",
       "      <td>999</td>\n",
       "      <td>0</td>\n",
       "      <td>nonexistent</td>\n",
       "      <td>1.1</td>\n",
       "      <td>93.994</td>\n",
       "      <td>-36.4</td>\n",
       "      <td>4.857</td>\n",
       "      <td>5191.0</td>\n",
       "      <td>no</td>\n",
       "    </tr>\n",
       "    <tr>\n",
       "      <th>1</th>\n",
       "      <td>57</td>\n",
       "      <td>services</td>\n",
       "      <td>married</td>\n",
       "      <td>high.school</td>\n",
       "      <td>unknown</td>\n",
       "      <td>no</td>\n",
       "      <td>no</td>\n",
       "      <td>telephone</td>\n",
       "      <td>may</td>\n",
       "      <td>mon</td>\n",
       "      <td>...</td>\n",
       "      <td>1</td>\n",
       "      <td>999</td>\n",
       "      <td>0</td>\n",
       "      <td>nonexistent</td>\n",
       "      <td>1.1</td>\n",
       "      <td>93.994</td>\n",
       "      <td>-36.4</td>\n",
       "      <td>4.857</td>\n",
       "      <td>5191.0</td>\n",
       "      <td>no</td>\n",
       "    </tr>\n",
       "    <tr>\n",
       "      <th>2</th>\n",
       "      <td>37</td>\n",
       "      <td>services</td>\n",
       "      <td>married</td>\n",
       "      <td>high.school</td>\n",
       "      <td>no</td>\n",
       "      <td>yes</td>\n",
       "      <td>no</td>\n",
       "      <td>telephone</td>\n",
       "      <td>may</td>\n",
       "      <td>mon</td>\n",
       "      <td>...</td>\n",
       "      <td>1</td>\n",
       "      <td>999</td>\n",
       "      <td>0</td>\n",
       "      <td>nonexistent</td>\n",
       "      <td>1.1</td>\n",
       "      <td>93.994</td>\n",
       "      <td>-36.4</td>\n",
       "      <td>4.857</td>\n",
       "      <td>5191.0</td>\n",
       "      <td>no</td>\n",
       "    </tr>\n",
       "    <tr>\n",
       "      <th>3</th>\n",
       "      <td>40</td>\n",
       "      <td>admin.</td>\n",
       "      <td>married</td>\n",
       "      <td>basic.6y</td>\n",
       "      <td>no</td>\n",
       "      <td>no</td>\n",
       "      <td>no</td>\n",
       "      <td>telephone</td>\n",
       "      <td>may</td>\n",
       "      <td>mon</td>\n",
       "      <td>...</td>\n",
       "      <td>1</td>\n",
       "      <td>999</td>\n",
       "      <td>0</td>\n",
       "      <td>nonexistent</td>\n",
       "      <td>1.1</td>\n",
       "      <td>93.994</td>\n",
       "      <td>-36.4</td>\n",
       "      <td>4.857</td>\n",
       "      <td>5191.0</td>\n",
       "      <td>no</td>\n",
       "    </tr>\n",
       "    <tr>\n",
       "      <th>4</th>\n",
       "      <td>56</td>\n",
       "      <td>services</td>\n",
       "      <td>married</td>\n",
       "      <td>high.school</td>\n",
       "      <td>no</td>\n",
       "      <td>no</td>\n",
       "      <td>yes</td>\n",
       "      <td>telephone</td>\n",
       "      <td>may</td>\n",
       "      <td>mon</td>\n",
       "      <td>...</td>\n",
       "      <td>1</td>\n",
       "      <td>999</td>\n",
       "      <td>0</td>\n",
       "      <td>nonexistent</td>\n",
       "      <td>1.1</td>\n",
       "      <td>93.994</td>\n",
       "      <td>-36.4</td>\n",
       "      <td>4.857</td>\n",
       "      <td>5191.0</td>\n",
       "      <td>no</td>\n",
       "    </tr>\n",
       "  </tbody>\n",
       "</table>\n",
       "<p>5 rows × 21 columns</p>\n",
       "</div>"
      ],
      "text/plain": [
       "   age        job  marital    education  default housing loan    contact  \\\n",
       "0   56  housemaid  married     basic.4y       no      no   no  telephone   \n",
       "1   57   services  married  high.school  unknown      no   no  telephone   \n",
       "2   37   services  married  high.school       no     yes   no  telephone   \n",
       "3   40     admin.  married     basic.6y       no      no   no  telephone   \n",
       "4   56   services  married  high.school       no      no  yes  telephone   \n",
       "\n",
       "  month day_of_week  ...  campaign  pdays  previous     poutcome emp.var.rate  \\\n",
       "0   may         mon  ...         1    999         0  nonexistent          1.1   \n",
       "1   may         mon  ...         1    999         0  nonexistent          1.1   \n",
       "2   may         mon  ...         1    999         0  nonexistent          1.1   \n",
       "3   may         mon  ...         1    999         0  nonexistent          1.1   \n",
       "4   may         mon  ...         1    999         0  nonexistent          1.1   \n",
       "\n",
       "   cons.price.idx  cons.conf.idx  euribor3m  nr.employed   y  \n",
       "0          93.994          -36.4      4.857       5191.0  no  \n",
       "1          93.994          -36.4      4.857       5191.0  no  \n",
       "2          93.994          -36.4      4.857       5191.0  no  \n",
       "3          93.994          -36.4      4.857       5191.0  no  \n",
       "4          93.994          -36.4      4.857       5191.0  no  \n",
       "\n",
       "[5 rows x 21 columns]"
      ]
     },
     "execution_count": 5,
     "metadata": {},
     "output_type": "execute_result"
    }
   ],
   "source": [
    "TrainDataFrame.head()"
   ]
  },
  {
   "cell_type": "code",
   "execution_count": 6,
   "metadata": {},
   "outputs": [
    {
     "data": {
      "text/html": [
       "<div>\n",
       "<style scoped>\n",
       "    .dataframe tbody tr th:only-of-type {\n",
       "        vertical-align: middle;\n",
       "    }\n",
       "\n",
       "    .dataframe tbody tr th {\n",
       "        vertical-align: top;\n",
       "    }\n",
       "\n",
       "    .dataframe thead th {\n",
       "        text-align: right;\n",
       "    }\n",
       "</style>\n",
       "<table border=\"1\" class=\"dataframe\">\n",
       "  <thead>\n",
       "    <tr style=\"text-align: right;\">\n",
       "      <th></th>\n",
       "      <th>age</th>\n",
       "      <th>job</th>\n",
       "      <th>marital</th>\n",
       "      <th>education</th>\n",
       "      <th>default</th>\n",
       "      <th>housing</th>\n",
       "      <th>loan</th>\n",
       "      <th>contact</th>\n",
       "      <th>month</th>\n",
       "      <th>day_of_week</th>\n",
       "      <th>...</th>\n",
       "      <th>campaign</th>\n",
       "      <th>pdays</th>\n",
       "      <th>previous</th>\n",
       "      <th>poutcome</th>\n",
       "      <th>emp.var.rate</th>\n",
       "      <th>cons.price.idx</th>\n",
       "      <th>cons.conf.idx</th>\n",
       "      <th>euribor3m</th>\n",
       "      <th>nr.employed</th>\n",
       "      <th>y</th>\n",
       "    </tr>\n",
       "  </thead>\n",
       "  <tbody>\n",
       "    <tr>\n",
       "      <th>0</th>\n",
       "      <td>30</td>\n",
       "      <td>blue-collar</td>\n",
       "      <td>married</td>\n",
       "      <td>basic.9y</td>\n",
       "      <td>no</td>\n",
       "      <td>yes</td>\n",
       "      <td>no</td>\n",
       "      <td>cellular</td>\n",
       "      <td>may</td>\n",
       "      <td>fri</td>\n",
       "      <td>...</td>\n",
       "      <td>2</td>\n",
       "      <td>999</td>\n",
       "      <td>0</td>\n",
       "      <td>nonexistent</td>\n",
       "      <td>-1.8</td>\n",
       "      <td>92.893</td>\n",
       "      <td>-46.2</td>\n",
       "      <td>1.313</td>\n",
       "      <td>5099.1</td>\n",
       "      <td>no</td>\n",
       "    </tr>\n",
       "    <tr>\n",
       "      <th>1</th>\n",
       "      <td>39</td>\n",
       "      <td>services</td>\n",
       "      <td>single</td>\n",
       "      <td>high.school</td>\n",
       "      <td>no</td>\n",
       "      <td>no</td>\n",
       "      <td>no</td>\n",
       "      <td>telephone</td>\n",
       "      <td>may</td>\n",
       "      <td>fri</td>\n",
       "      <td>...</td>\n",
       "      <td>4</td>\n",
       "      <td>999</td>\n",
       "      <td>0</td>\n",
       "      <td>nonexistent</td>\n",
       "      <td>1.1</td>\n",
       "      <td>93.994</td>\n",
       "      <td>-36.4</td>\n",
       "      <td>4.855</td>\n",
       "      <td>5191.0</td>\n",
       "      <td>no</td>\n",
       "    </tr>\n",
       "    <tr>\n",
       "      <th>2</th>\n",
       "      <td>25</td>\n",
       "      <td>services</td>\n",
       "      <td>married</td>\n",
       "      <td>high.school</td>\n",
       "      <td>no</td>\n",
       "      <td>yes</td>\n",
       "      <td>no</td>\n",
       "      <td>telephone</td>\n",
       "      <td>jun</td>\n",
       "      <td>wed</td>\n",
       "      <td>...</td>\n",
       "      <td>1</td>\n",
       "      <td>999</td>\n",
       "      <td>0</td>\n",
       "      <td>nonexistent</td>\n",
       "      <td>1.4</td>\n",
       "      <td>94.465</td>\n",
       "      <td>-41.8</td>\n",
       "      <td>4.962</td>\n",
       "      <td>5228.1</td>\n",
       "      <td>no</td>\n",
       "    </tr>\n",
       "    <tr>\n",
       "      <th>3</th>\n",
       "      <td>38</td>\n",
       "      <td>services</td>\n",
       "      <td>married</td>\n",
       "      <td>basic.9y</td>\n",
       "      <td>no</td>\n",
       "      <td>unknown</td>\n",
       "      <td>unknown</td>\n",
       "      <td>telephone</td>\n",
       "      <td>jun</td>\n",
       "      <td>fri</td>\n",
       "      <td>...</td>\n",
       "      <td>3</td>\n",
       "      <td>999</td>\n",
       "      <td>0</td>\n",
       "      <td>nonexistent</td>\n",
       "      <td>1.4</td>\n",
       "      <td>94.465</td>\n",
       "      <td>-41.8</td>\n",
       "      <td>4.959</td>\n",
       "      <td>5228.1</td>\n",
       "      <td>no</td>\n",
       "    </tr>\n",
       "    <tr>\n",
       "      <th>4</th>\n",
       "      <td>47</td>\n",
       "      <td>admin.</td>\n",
       "      <td>married</td>\n",
       "      <td>university.degree</td>\n",
       "      <td>no</td>\n",
       "      <td>yes</td>\n",
       "      <td>no</td>\n",
       "      <td>cellular</td>\n",
       "      <td>nov</td>\n",
       "      <td>mon</td>\n",
       "      <td>...</td>\n",
       "      <td>1</td>\n",
       "      <td>999</td>\n",
       "      <td>0</td>\n",
       "      <td>nonexistent</td>\n",
       "      <td>-0.1</td>\n",
       "      <td>93.200</td>\n",
       "      <td>-42.0</td>\n",
       "      <td>4.191</td>\n",
       "      <td>5195.8</td>\n",
       "      <td>no</td>\n",
       "    </tr>\n",
       "  </tbody>\n",
       "</table>\n",
       "<p>5 rows × 21 columns</p>\n",
       "</div>"
      ],
      "text/plain": [
       "   age          job  marital          education default  housing     loan  \\\n",
       "0   30  blue-collar  married           basic.9y      no      yes       no   \n",
       "1   39     services   single        high.school      no       no       no   \n",
       "2   25     services  married        high.school      no      yes       no   \n",
       "3   38     services  married           basic.9y      no  unknown  unknown   \n",
       "4   47       admin.  married  university.degree      no      yes       no   \n",
       "\n",
       "     contact month day_of_week  ...  campaign  pdays  previous     poutcome  \\\n",
       "0   cellular   may         fri  ...         2    999         0  nonexistent   \n",
       "1  telephone   may         fri  ...         4    999         0  nonexistent   \n",
       "2  telephone   jun         wed  ...         1    999         0  nonexistent   \n",
       "3  telephone   jun         fri  ...         3    999         0  nonexistent   \n",
       "4   cellular   nov         mon  ...         1    999         0  nonexistent   \n",
       "\n",
       "  emp.var.rate  cons.price.idx  cons.conf.idx  euribor3m  nr.employed   y  \n",
       "0         -1.8          92.893          -46.2      1.313       5099.1  no  \n",
       "1          1.1          93.994          -36.4      4.855       5191.0  no  \n",
       "2          1.4          94.465          -41.8      4.962       5228.1  no  \n",
       "3          1.4          94.465          -41.8      4.959       5228.1  no  \n",
       "4         -0.1          93.200          -42.0      4.191       5195.8  no  \n",
       "\n",
       "[5 rows x 21 columns]"
      ]
     },
     "execution_count": 6,
     "metadata": {},
     "output_type": "execute_result"
    }
   ],
   "source": [
    "TestDataFrame.head()"
   ]
  },
  {
   "cell_type": "code",
   "execution_count": 7,
   "metadata": {},
   "outputs": [
    {
     "data": {
      "text/plain": [
       "(41188, 21)"
      ]
     },
     "execution_count": 7,
     "metadata": {},
     "output_type": "execute_result"
    }
   ],
   "source": [
    "TrainDataFrame.shape"
   ]
  },
  {
   "cell_type": "code",
   "execution_count": 8,
   "metadata": {},
   "outputs": [
    {
     "data": {
      "text/plain": [
       "(4119, 21)"
      ]
     },
     "execution_count": 8,
     "metadata": {},
     "output_type": "execute_result"
    }
   ],
   "source": [
    "TestDataFrame.shape"
   ]
  },
  {
   "cell_type": "markdown",
   "metadata": {},
   "source": [
    "### Data Understanding\n",
    "Input variables:  \n",
    "**bank client data:**\n",
    "1. age (numeric)\n",
    "2. job - type of job (categorical):\n",
    "    - 'admin.','blue-collar','entrepreneur','housemaid','management','retired','self-  employed', 'services', 'student', 'technician', 'unemployed', 'unknown'\n",
    "        \n",
    "3. marital - maritail status (categorical):\n",
    "    - 'divorced','married','single','unknown'; note: 'divorced' means divorced or widowed\n",
    "        \n",
    "4. education (categorical):\n",
    "    - 'basic.4y','basic.6y','basic.9y','high.school','illiterate','professional.course','university.degree','unknown')\n",
    "5. default - has credit in default? (categorical):\n",
    "    - 'no','yes','unknown'\n",
    "6. housing - has housing loan? (categorical):\n",
    "    - 'no','yes','unknown'\n",
    "7. loan- has personal loan? (categorical): \n",
    "    - 'no','yes','unknown'\n",
    "\n",
    "**related with the last contact of the current campaign:**\n",
    "8. contact - contact communication type (categorical): \n",
    "    - 'cellular','telephone'\n",
    "9. month - last contact month of year (categorical): \n",
    "    - 'jan', 'feb', 'mar', ..., 'nov', 'dec'\n",
    "10. day_of_week - last contact day of the week (categorical): \n",
    "    - 'mon','tue','wed','thu','fri'\n",
    "11. duration: last contact duration, in seconds (numeric):\n",
    "    - Important note: this attribute highly affects the output target (e.g., if duration=0 then y='no'). Yet, the duration is not known before a call is performed. Also, after the end of the call y is obviously known. Thus, this input should only be included for benchmark purposes and should be discarded if the intention is to have a realistic predictive model.\n",
    "    \n",
    "**other attributes:**\n",
    "12. campaign - includes last contact (numeric): \n",
    "    - number of contacts performed during this campaign and for this client \n",
    "13. pdays - 999 means client was not previously contacted (numeric): \n",
    "    - number of days that passed by after the client was last contacted from a previous campaign\n",
    "14. previous (numeric): \n",
    "    - number of contacts performed before this campaign and for this client \n",
    "15. poutcome - outcome of the previous marketing campaign (categorical): \n",
    "    - 'failure','nonexistent','success'\n",
    "    \n",
    "**social and economic context attributes**\n",
    "16. emp.var.rate - employment variation rate (numeric): \n",
    "    - quarterly indicator \n",
    "17. cons.price.idx (numeric): \n",
    "    - consumer price index - monthly indicator \n",
    "18. cons.conf.idx (numeric): \n",
    "    - consumer confidence index - monthly indicator \n",
    "19. euribor3m (numeric): \n",
    "    - euribor 3 month rate - daily indicator \n",
    "20. nr.employed (numeric): \n",
    "    - number of employees - quarterly indicator \n",
    "\n",
    "**Output variable (desired target):**\n",
    "21. y - has the client subscribed a term deposit? (binary): \n",
    "    - 'yes','no'"
   ]
  },
  {
   "cell_type": "markdown",
   "metadata": {},
   "source": [
    "### Clean DataSet"
   ]
  },
  {
   "cell_type": "code",
   "execution_count": 16,
   "metadata": {},
   "outputs": [],
   "source": [
    "#Functions used while cleaning Dataset\n",
    "import matplotlib.gridspec as gridspec\n",
    "\n",
    "def Check_Null_Values(dataframe):\n",
    "    print(dataframe.info())\n",
    "    sns.heatmap(dataframe.isnull(),yticklabels=False, cmap='viridis').set_title('Null Values in each columns')\n",
    "    \n",
    "    \n",
    "def Check_Balance_Specific_Col(dataframe, Col_Names):\n",
    "    #Col_Names = dataframe.columns.tolist()\n",
    "    plt.figure(figsize=(9,3))\n",
    "    for col in Col_Names:\n",
    "        ValCount = dataframe[col].value_counts()\n",
    "        PerCount = (ValCount / ValCount.sum())*100 \n",
    "        plt.bar(ValCount.index,PerCount)\n",
    "        #plt.xticks(ValCount.index,ValCount.index.values)\n",
    "        plt.xticks(PerCount.index,PerCount.index.values)\n",
    "        plt.ylabel(\"Frequency\")\n",
    "        plt.title('Distribution of Data')\n",
    "        plt.show()\n",
    "        print(\"Feature Name: {}: \\n {}\".format(col,ValCount))\n",
    "        print(\"Feature Name: {}: \\n Percent Count \\n{}\".format(col,PerCount))\n",
    "        \n",
    "def Check_Balance2(dataframe):\n",
    "    Col_Names = dataframe.columns.tolist()\n",
    "    nrows = int(len(Col_Names)/2) +1\n",
    "    fig = plt.figure()\n",
    "    fig, axes = plt.subplots(nrows=nrows, ncols=2, figsize=(15,40))\n",
    "    fig.subplots_adjust(hspace=0.5)\n",
    "    fig.suptitle('Distributions of dataset Features')\n",
    "    for ax, col in zip(axes.flatten(), Col_Names):\n",
    "        ValCount = dataframe[col].value_counts()\n",
    "        ax.bar(ValCount.index,ValCount)\n",
    "        ax.set_xticks(ValCount.index.values)\n",
    "        #axs.set_xticklabels(\"Frequency\")\n",
    "        #ax.show()\n",
    "    \n",
    "    "
   ]
  },
  {
   "cell_type": "code",
   "execution_count": 10,
   "metadata": {},
   "outputs": [
    {
     "data": {
      "text/plain": [
       "11"
      ]
     },
     "execution_count": 10,
     "metadata": {},
     "output_type": "execute_result"
    }
   ],
   "source": [
    "Col = TrainDataFrame1.columns.tolist()\n",
    "int(len(Col)/2) +1"
   ]
  },
  {
   "cell_type": "code",
   "execution_count": 9,
   "metadata": {},
   "outputs": [],
   "source": [
    "TrainDataFrame1 = TrainDataFrame.copy()\n",
    "TestDataFrame1 = TestDataFrame.copy()"
   ]
  },
  {
   "cell_type": "code",
   "execution_count": 12,
   "metadata": {},
   "outputs": [
    {
     "data": {
      "text/plain": [
       "(4119, 21)"
      ]
     },
     "execution_count": 12,
     "metadata": {},
     "output_type": "execute_result"
    }
   ],
   "source": [
    "TestDataFrame1.shape"
   ]
  },
  {
   "cell_type": "code",
   "execution_count": 13,
   "metadata": {},
   "outputs": [
    {
     "data": {
      "text/plain": [
       "age                 int64\n",
       "job                object\n",
       "marital            object\n",
       "education          object\n",
       "default            object\n",
       "housing            object\n",
       "loan               object\n",
       "contact            object\n",
       "month              object\n",
       "day_of_week        object\n",
       "duration            int64\n",
       "campaign            int64\n",
       "pdays               int64\n",
       "previous            int64\n",
       "poutcome           object\n",
       "emp.var.rate      float64\n",
       "cons.price.idx    float64\n",
       "cons.conf.idx     float64\n",
       "euribor3m         float64\n",
       "nr.employed       float64\n",
       "y                  object\n",
       "dtype: object"
      ]
     },
     "execution_count": 13,
     "metadata": {},
     "output_type": "execute_result"
    }
   ],
   "source": [
    "TrainDataFrame1.dtypes"
   ]
  },
  {
   "cell_type": "code",
   "execution_count": 14,
   "metadata": {},
   "outputs": [
    {
     "data": {
      "text/plain": [
       "age                 int64\n",
       "job                object\n",
       "marital            object\n",
       "education          object\n",
       "default            object\n",
       "housing            object\n",
       "loan               object\n",
       "contact            object\n",
       "month              object\n",
       "day_of_week        object\n",
       "duration            int64\n",
       "campaign            int64\n",
       "pdays               int64\n",
       "previous            int64\n",
       "poutcome           object\n",
       "emp.var.rate      float64\n",
       "cons.price.idx    float64\n",
       "cons.conf.idx     float64\n",
       "euribor3m         float64\n",
       "nr.employed       float64\n",
       "y                  object\n",
       "dtype: object"
      ]
     },
     "execution_count": 14,
     "metadata": {},
     "output_type": "execute_result"
    }
   ],
   "source": [
    "TestDataFrame1.dtypes"
   ]
  },
  {
   "cell_type": "code",
   "execution_count": 17,
   "metadata": {},
   "outputs": [
    {
     "name": "stdout",
     "output_type": "stream",
     "text": [
      "<class 'pandas.core.frame.DataFrame'>\n",
      "RangeIndex: 41188 entries, 0 to 41187\n",
      "Data columns (total 21 columns):\n",
      " #   Column          Non-Null Count  Dtype  \n",
      "---  ------          --------------  -----  \n",
      " 0   age             41188 non-null  int64  \n",
      " 1   job             41188 non-null  object \n",
      " 2   marital         41188 non-null  object \n",
      " 3   education       41188 non-null  object \n",
      " 4   default         41188 non-null  object \n",
      " 5   housing         41188 non-null  object \n",
      " 6   loan            41188 non-null  object \n",
      " 7   contact         41188 non-null  object \n",
      " 8   month           41188 non-null  object \n",
      " 9   day_of_week     41188 non-null  object \n",
      " 10  duration        41188 non-null  int64  \n",
      " 11  campaign        41188 non-null  int64  \n",
      " 12  pdays           41188 non-null  int64  \n",
      " 13  previous        41188 non-null  int64  \n",
      " 14  poutcome        41188 non-null  object \n",
      " 15  emp.var.rate    41188 non-null  float64\n",
      " 16  cons.price.idx  41188 non-null  float64\n",
      " 17  cons.conf.idx   41188 non-null  float64\n",
      " 18  euribor3m       41188 non-null  float64\n",
      " 19  nr.employed     41188 non-null  float64\n",
      " 20  y               41188 non-null  object \n",
      "dtypes: float64(5), int64(5), object(11)\n",
      "memory usage: 6.6+ MB\n",
      "None\n"
     ]
    },
    {
     "data": {
      "image/png": "[encoded data removed]",
      "text/plain": [
       "<Figure size 432x288 with 2 Axes>"
      ]
     },
     "metadata": {
      "needs_background": "light"
     },
     "output_type": "display_data"
    }
   ],
   "source": [
    "Check_Null_Values(TrainDataFrame1)"
   ]
  },
  {
   "cell_type": "code",
   "execution_count": 18,
   "metadata": {},
   "outputs": [
    {
     "name": "stdout",
     "output_type": "stream",
     "text": [
      "<class 'pandas.core.frame.DataFrame'>\n",
      "RangeIndex: 4119 entries, 0 to 4118\n",
      "Data columns (total 21 columns):\n",
      " #   Column          Non-Null Count  Dtype  \n",
      "---  ------          --------------  -----  \n",
      " 0   age             4119 non-null   int64  \n",
      " 1   job             4119 non-null   object \n",
      " 2   marital         4119 non-null   object \n",
      " 3   education       4119 non-null   object \n",
      " 4   default         4119 non-null   object \n",
      " 5   housing         4119 non-null   object \n",
      " 6   loan            4119 non-null   object \n",
      " 7   contact         4119 non-null   object \n",
      " 8   month           4119 non-null   object \n",
      " 9   day_of_week     4119 non-null   object \n",
      " 10  duration        4119 non-null   int64  \n",
      " 11  campaign        4119 non-null   int64  \n",
      " 12  pdays           4119 non-null   int64  \n",
      " 13  previous        4119 non-null   int64  \n",
      " 14  poutcome        4119 non-null   object \n",
      " 15  emp.var.rate    4119 non-null   float64\n",
      " 16  cons.price.idx  4119 non-null   float64\n",
      " 17  cons.conf.idx   4119 non-null   float64\n",
      " 18  euribor3m       4119 non-null   float64\n",
      " 19  nr.employed     4119 non-null   float64\n",
      " 20  y               4119 non-null   object \n",
      "dtypes: float64(5), int64(5), object(11)\n",
      "memory usage: 675.9+ KB\n",
      "None\n"
     ]
    },
    {
     "data": {
      "image/png": "[encoded data removed]",
      "text/plain": [
       "<Figure size 432x288 with 2 Axes>"
      ]
     },
     "metadata": {
      "needs_background": "light"
     },
     "output_type": "display_data"
    }
   ],
   "source": [
    "Check_Null_Values(TestDataFrame1)"
   ]
  },
  {
   "cell_type": "markdown",
   "metadata": {},
   "source": [
    "**Observation**\n",
    "- Datasets is clean there zero null values present."
   ]
  },
  {
   "cell_type": "markdown",
   "metadata": {},
   "source": [
    "**Check dataset Balanced/Imbalanced**"
   ]
  },
  {
   "cell_type": "code",
   "execution_count": 21,
   "metadata": {},
   "outputs": [
    {
     "data": {
      "image/png": "[encoded data removed]",
      "text/plain": [
       "<Figure size 648x216 with 1 Axes>"
      ]
     },
     "metadata": {
      "needs_background": "light"
     },
     "output_type": "display_data"
    },
    {
     "name": "stdout",
     "output_type": "stream",
     "text": [
      "Feature Name: y: \n",
      " no     36548\n",
      "yes     4640\n",
      "Name: y, dtype: int64\n",
      "Feature Name: y: \n",
      " Percent Count \n",
      "no     88.734583\n",
      "yes    11.265417\n",
      "Name: y, dtype: float64\n"
     ]
    }
   ],
   "source": [
    "Col = [\"y\"]\n",
    "Check_Balance_Specific_Col(TrainDataFrame1, Col)"
   ]
  },
  {
   "cell_type": "code",
   "execution_count": 20,
   "metadata": {},
   "outputs": [
    {
     "data": {
      "image/png": "[encoded data removed]",
      "text/plain": [
       "<Figure size 648x216 with 1 Axes>"
      ]
     },
     "metadata": {
      "needs_background": "light"
     },
     "output_type": "display_data"
    },
    {
     "name": "stdout",
     "output_type": "stream",
     "text": [
      "Feature Name: y: \n",
      " no     3668\n",
      "yes     451\n",
      "Name: y, dtype: int64\n",
      "Feature Name: y: \n",
      " Percent Count \n",
      "no     89.05074\n",
      "yes    10.94926\n",
      "Name: y, dtype: float64\n"
     ]
    }
   ],
   "source": [
    "Col = [\"y\"]\n",
    "Check_Balance_Specific_Col(TestDataFrame1, Col)"
   ]
  },
  {
   "cell_type": "code",
   "execution_count": 142,
   "metadata": {},
   "outputs": [
    {
     "name": "stdout",
     "output_type": "stream",
     "text": [
      "no     36548\n",
      "yes     4640\n",
      "Name: y, dtype: int64\n",
      "no     88.734583\n",
      "yes    11.265417\n",
      "Name: y, dtype: float64\n"
     ]
    }
   ],
   "source": [
    "a = DataFrame1[\"y\"].value_counts()\n",
    "print(a)\n",
    "percent = (a / a.sum())*100\n",
    "print(percent)"
   ]
  },
  {
   "cell_type": "markdown",
   "metadata": {},
   "source": [
    "**Observation**\n",
    "- Data is imbalanced.\n",
    "- Need to balance.\n",
    "- Before that need to handle categorical vairables."
   ]
  },
  {
   "cell_type": "markdown",
   "metadata": {},
   "source": [
    "### EDA"
   ]
  },
  {
   "cell_type": "code",
   "execution_count": 22,
   "metadata": {},
   "outputs": [],
   "source": [
    "def Encode_Data(dataframe):   \n",
    "    from sklearn.preprocessing import LabelEncoder\n",
    "    for col in dataframe.columns:        \n",
    "        if dataframe[col].dtype.name == \"category\" or \"object\":\n",
    "            le = LabelEncoder()\n",
    "            dataframe[col]=le.fit_transform(dataframe[col])\n",
    "    return dataframe\n",
    "\n",
    "\n",
    "def Display_Correlation(EncodedData):\n",
    "    plt.figure(figsize=(20,15))\n",
    "    corr = EncodedData.corr()\n",
    "    sns.heatmap(corr,\n",
    "                xticklabels=corr.columns,\n",
    "                yticklabels=corr.columns,cmap=\"PRGn\",annot=True,vmin=-1, vmax=1,linewidths=1,linecolor='black')\n",
    "    plt.show()"
   ]
  },
  {
   "cell_type": "code",
   "execution_count": 23,
   "metadata": {},
   "outputs": [],
   "source": [
    "EDADataFrame = TrainDataFrame1.copy()"
   ]
  },
  {
   "cell_type": "code",
   "execution_count": 24,
   "metadata": {},
   "outputs": [
    {
     "data": {
      "text/plain": [
       "(41188, 21)"
      ]
     },
     "execution_count": 24,
     "metadata": {},
     "output_type": "execute_result"
    }
   ],
   "source": [
    "EDADataFrame.shape"
   ]
  },
  {
   "cell_type": "code",
   "execution_count": 25,
   "metadata": {},
   "outputs": [],
   "source": [
    "EncodedData = Encode_Data(EDADataFrame)"
   ]
  },
  {
   "cell_type": "code",
   "execution_count": 26,
   "metadata": {},
   "outputs": [
    {
     "data": {
      "text/plain": [
       "(41188, 21)"
      ]
     },
     "execution_count": 26,
     "metadata": {},
     "output_type": "execute_result"
    }
   ],
   "source": [
    "EncodedData.shape"
   ]
  },
  {
   "cell_type": "code",
   "execution_count": 27,
   "metadata": {},
   "outputs": [
    {
     "data": {
      "text/plain": [
       "0     10422\n",
       "1      9254\n",
       "9      6743\n",
       "7      3969\n",
       "4      2924\n",
       "5      1720\n",
       "2      1456\n",
       "6      1421\n",
       "3      1060\n",
       "10     1014\n",
       "8       875\n",
       "11      330\n",
       "Name: job, dtype: int64"
      ]
     },
     "execution_count": 27,
     "metadata": {},
     "output_type": "execute_result"
    }
   ],
   "source": [
    "EncodedData['job'].value_counts()"
   ]
  },
  {
   "cell_type": "code",
   "execution_count": 28,
   "metadata": {},
   "outputs": [
    {
     "data": {
      "image/png": "[encoded data removed]",
      "text/plain": [
       "<Figure size 1440x1080 with 2 Axes>"
      ]
     },
     "metadata": {
      "needs_background": "light"
     },
     "output_type": "display_data"
    }
   ],
   "source": [
    "Display_Correlation(EncodedData)"
   ]
  },
  {
   "cell_type": "markdown",
   "metadata": {},
   "source": [
    "### Correlation Inference:\n",
    "- y is highly correlated with:\n",
    "    - duaration : 0.42\n",
    "    - previous : 0.23\n",
    "    - poutcome : 0.13\n",
    "    - cons.conif.idx : 0.07"
   ]
  },
  {
   "cell_type": "markdown",
   "metadata": {},
   "source": [
    "**Prepare Dataset**"
   ]
  },
  {
   "cell_type": "code",
   "execution_count": 29,
   "metadata": {},
   "outputs": [],
   "source": [
    "DataFrame2 = TrainDataFrame1.copy()"
   ]
  },
  {
   "cell_type": "code",
   "execution_count": 30,
   "metadata": {},
   "outputs": [
    {
     "data": {
      "text/plain": [
       "age                 int64\n",
       "job                object\n",
       "marital            object\n",
       "education          object\n",
       "default            object\n",
       "housing            object\n",
       "loan               object\n",
       "contact            object\n",
       "month              object\n",
       "day_of_week        object\n",
       "duration            int64\n",
       "campaign            int64\n",
       "pdays               int64\n",
       "previous            int64\n",
       "poutcome           object\n",
       "emp.var.rate      float64\n",
       "cons.price.idx    float64\n",
       "cons.conf.idx     float64\n",
       "euribor3m         float64\n",
       "nr.employed       float64\n",
       "y                  object\n",
       "dtype: object"
      ]
     },
     "execution_count": 30,
     "metadata": {},
     "output_type": "execute_result"
    }
   ],
   "source": [
    "DataFrame2.dtypes"
   ]
  },
  {
   "cell_type": "code",
   "execution_count": 31,
   "metadata": {},
   "outputs": [],
   "source": [
    "def Count_CatVar(dataframe):\n",
    "    CatCol = dataframe.select_dtypes(include=['object']).columns.tolist()\n",
    "    #fig = plt.figure(figsize=(14, 18))\n",
    "\n",
    "    for index, col in enumerate(CatCol):\n",
    "        print(\"------------\",col,\" value counts---------------------\")\n",
    "        print(dataframe[col].value_counts())\n",
    "        #fig.add_subplot(3, 2, index+1)\n",
    "        #dataframe[col].value_counts()[:20].plot(kind='bar', title=col, color = \"royalblue\")\n",
    "        #plt.tight_layout()\n",
    "        \n",
    "    print(\"\\n\\n------------Number of categories in each columns---------------------\")\n",
    "    for i in CatCol:\n",
    "        a = dataframe[i].unique()\n",
    "        print(\"There are {} categories in {}\".format(len(a),i))"
   ]
  },
  {
   "cell_type": "code",
   "execution_count": 32,
   "metadata": {},
   "outputs": [
    {
     "name": "stdout",
     "output_type": "stream",
     "text": [
      "------------ job  value counts---------------------\n",
      "admin.           10422\n",
      "blue-collar       9254\n",
      "technician        6743\n",
      "services          3969\n",
      "management        2924\n",
      "retired           1720\n",
      "entrepreneur      1456\n",
      "self-employed     1421\n",
      "housemaid         1060\n",
      "unemployed        1014\n",
      "student            875\n",
      "unknown            330\n",
      "Name: job, dtype: int64\n",
      "------------ marital  value counts---------------------\n",
      "married     24928\n",
      "single      11568\n",
      "divorced     4612\n",
      "unknown        80\n",
      "Name: marital, dtype: int64\n",
      "------------ education  value counts---------------------\n",
      "university.degree      12168\n",
      "high.school             9515\n",
      "basic.9y                6045\n",
      "professional.course     5243\n",
      "basic.4y                4176\n",
      "basic.6y                2292\n",
      "unknown                 1731\n",
      "illiterate                18\n",
      "Name: education, dtype: int64\n",
      "------------ default  value counts---------------------\n",
      "no         32588\n",
      "unknown     8597\n",
      "yes            3\n",
      "Name: default, dtype: int64\n",
      "------------ housing  value counts---------------------\n",
      "yes        21576\n",
      "no         18622\n",
      "unknown      990\n",
      "Name: housing, dtype: int64\n",
      "------------ loan  value counts---------------------\n",
      "no         33950\n",
      "yes         6248\n",
      "unknown      990\n",
      "Name: loan, dtype: int64\n",
      "------------ contact  value counts---------------------\n",
      "cellular     26144\n",
      "telephone    15044\n",
      "Name: contact, dtype: int64\n",
      "------------ month  value counts---------------------\n",
      "may    13769\n",
      "jul     7174\n",
      "aug     6178\n",
      "jun     5318\n",
      "nov     4101\n",
      "apr     2632\n",
      "oct      718\n",
      "sep      570\n",
      "mar      546\n",
      "dec      182\n",
      "Name: month, dtype: int64\n",
      "------------ day_of_week  value counts---------------------\n",
      "thu    8623\n",
      "mon    8514\n",
      "wed    8134\n",
      "tue    8090\n",
      "fri    7827\n",
      "Name: day_of_week, dtype: int64\n",
      "------------ poutcome  value counts---------------------\n",
      "nonexistent    35563\n",
      "failure         4252\n",
      "success         1373\n",
      "Name: poutcome, dtype: int64\n",
      "------------ y  value counts---------------------\n",
      "no     36548\n",
      "yes     4640\n",
      "Name: y, dtype: int64\n",
      "\n",
      "\n",
      "------------Number of categories in each columns---------------------\n",
      "There are 12 categories in job\n",
      "There are 4 categories in marital\n",
      "There are 8 categories in education\n",
      "There are 3 categories in default\n",
      "There are 3 categories in housing\n",
      "There are 3 categories in loan\n",
      "There are 2 categories in contact\n",
      "There are 10 categories in month\n",
      "There are 5 categories in day_of_week\n",
      "There are 3 categories in poutcome\n",
      "There are 2 categories in y\n"
     ]
    }
   ],
   "source": [
    "Count_CatVar(DataFrame2)"
   ]
  },
  {
   "cell_type": "markdown",
   "metadata": {},
   "source": [
    "## Analysis\n",
    "##### From above results we can infer below information for dataset:\n",
    "- There are 11 categorical column and each have \n",
    "    1. 12 categories in job\n",
    "    2. 4 categories in marital\n",
    "    3. 8 categories in education\n",
    "    4. 3 categories in default\n",
    "    5. 3 categories in housing\n",
    "    6. 3 categories in loan\n",
    "    7. 2 categories in contact\n",
    "    8. 10 categories in month\n",
    "    9. 5 categories in day_of_week\n",
    "    10. 3 categories in poutcome\n",
    "    11. 2 categories in y\n",
    "    \n",
    "- It means total 53 dummies will be created (exclude target col)\n",
    "- But we use one hot encoding and remove one category from each category to reduce 10 more features\n",
    "- Hence, total 43 new features(dummies) will be created.\n",
    "- Already there are 10 integer/float\n",
    "   - 10 integer columns + 43 dummies\n",
    "   - Hence, total 53 features will be there."
   ]
  },
  {
   "cell_type": "code",
   "execution_count": 33,
   "metadata": {},
   "outputs": [],
   "source": [
    "#as we dont want to create dummies of target vairable\n",
    "DataFrame3 = DataFrame2.drop(['y'], axis = 1)\n",
    "DataFrame3 = pd.get_dummies(DataFrame3, drop_first=True)"
   ]
  },
  {
   "cell_type": "code",
   "execution_count": 47,
   "metadata": {},
   "outputs": [],
   "source": [
    "# Create dummies for test dataset\n",
    "TestDataFrame3 = TestDataFrame1.copy()"
   ]
  },
  {
   "cell_type": "code",
   "execution_count": 48,
   "metadata": {},
   "outputs": [],
   "source": [
    "TestDataFrame3 = TestDataFrame3.drop(['y'], axis = 1)\n",
    "TestDataFrame3 = pd.get_dummies(TestDataFrame3, drop_first=True)"
   ]
  },
  {
   "cell_type": "code",
   "execution_count": 50,
   "metadata": {},
   "outputs": [
    {
     "data": {
      "text/plain": [
       "(4119, 53)"
      ]
     },
     "execution_count": 50,
     "metadata": {},
     "output_type": "execute_result"
    }
   ],
   "source": [
    "TestDataFrame3.shape"
   ]
  },
  {
   "cell_type": "code",
   "execution_count": 34,
   "metadata": {},
   "outputs": [
    {
     "data": {
      "text/plain": [
       "(41188, 53)"
      ]
     },
     "execution_count": 34,
     "metadata": {},
     "output_type": "execute_result"
    }
   ],
   "source": [
    "DataFrame3.shape"
   ]
  },
  {
   "cell_type": "markdown",
   "metadata": {},
   "source": [
    "**Dataset ready to handle imbalanced**"
   ]
  },
  {
   "cell_type": "markdown",
   "metadata": {},
   "source": [
    "#### Handle Imbalanced Dataset"
   ]
  },
  {
   "cell_type": "code",
   "execution_count": 51,
   "metadata": {},
   "outputs": [],
   "source": [
    "X = DataFrame3\n",
    "Y = DataFrame2['y']"
   ]
  },
  {
   "cell_type": "code",
   "execution_count": 52,
   "metadata": {},
   "outputs": [
    {
     "name": "stdout",
     "output_type": "stream",
     "text": [
      "(41188, 53) (41188,)\n"
     ]
    }
   ],
   "source": [
    "print(X.shape, Y.shape)"
   ]
  },
  {
   "cell_type": "code",
   "execution_count": 53,
   "metadata": {},
   "outputs": [],
   "source": [
    "from imblearn.combine import SMOTETomek"
   ]
  },
  {
   "cell_type": "code",
   "execution_count": 54,
   "metadata": {},
   "outputs": [],
   "source": [
    "smk = SMOTETomek(random_state = 42)"
   ]
  },
  {
   "cell_type": "code",
   "execution_count": 55,
   "metadata": {},
   "outputs": [],
   "source": [
    "X_res, Y_res = smk.fit_sample(X,Y)"
   ]
  },
  {
   "cell_type": "code",
   "execution_count": 56,
   "metadata": {},
   "outputs": [
    {
     "name": "stdout",
     "output_type": "stream",
     "text": [
      "(72498, 53) (72498,)\n"
     ]
    }
   ],
   "source": [
    "print(X_res.shape, Y_res.shape)"
   ]
  },
  {
   "cell_type": "code",
   "execution_count": 57,
   "metadata": {},
   "outputs": [],
   "source": [
    "from collections import Counter"
   ]
  },
  {
   "cell_type": "code",
   "execution_count": 58,
   "metadata": {},
   "outputs": [
    {
     "name": "stdout",
     "output_type": "stream",
     "text": [
      "Original dataset shape Counter({'no': 36548, 'yes': 4640})\n",
      "Sampled dataset shape Counter({'no': 36249, 'yes': 36249})\n"
     ]
    }
   ],
   "source": [
    "print(\"Original dataset shape {}\".format(Counter(Y)))\n",
    "print(\"Sampled dataset shape {}\".format(Counter(Y_res)))"
   ]
  },
  {
   "cell_type": "code",
   "execution_count": 59,
   "metadata": {},
   "outputs": [
    {
     "data": {
      "text/plain": [
       "yes    36249\n",
       "no     36249\n",
       "Name: y, dtype: int64"
      ]
     },
     "execution_count": 59,
     "metadata": {},
     "output_type": "execute_result"
    }
   ],
   "source": [
    "Y_res.value_counts()"
   ]
  },
  {
   "cell_type": "markdown",
   "metadata": {},
   "source": [
    "# Development"
   ]
  },
  {
   "cell_type": "code",
   "execution_count": 60,
   "metadata": {},
   "outputs": [
    {
     "data": {
      "text/plain": [
       "0         no\n",
       "1         no\n",
       "2         no\n",
       "3         no\n",
       "4         no\n",
       "        ... \n",
       "72493    yes\n",
       "72494    yes\n",
       "72495    yes\n",
       "72496    yes\n",
       "72497    yes\n",
       "Name: y, Length: 72498, dtype: object"
      ]
     },
     "execution_count": 60,
     "metadata": {},
     "output_type": "execute_result"
    }
   ],
   "source": [
    "X_res\n",
    "Y_res"
   ]
  },
  {
   "cell_type": "code",
   "execution_count": 61,
   "metadata": {},
   "outputs": [
    {
     "data": {
      "text/plain": [
       "(41188,)"
      ]
     },
     "execution_count": 61,
     "metadata": {},
     "output_type": "execute_result"
    }
   ],
   "source": [
    "# check with imbalanced dataset\n",
    "Y.shape"
   ]
  },
  {
   "cell_type": "code",
   "execution_count": 62,
   "metadata": {},
   "outputs": [],
   "source": [
    "#-------Establish Base Model ---------"
   ]
  },
  {
   "cell_type": "markdown",
   "metadata": {},
   "source": [
    "- As LogisticRegression is very popular for Classification problem\n",
    "- Hence, i am taking LogisticRegression as base model\n",
    "- Perform 5-fold cross-validation to check Accuracy."
   ]
  },
  {
   "cell_type": "code",
   "execution_count": 63,
   "metadata": {},
   "outputs": [],
   "source": [
    "from sklearn.model_selection import train_test_split \n",
    "X_BaseTrain, X_BaseTest, Y_BaseTrain, Y_BaseTest = train_test_split(X_res, Y_res, test_size = 0.30, random_state = 0)\n",
    "X_IMBTrain, X_IMBTest, Y_IMBTrain, Y_IMBTest = train_test_split(X, Y, test_size = 0.30, random_state = 0)"
   ]
  },
  {
   "cell_type": "code",
   "execution_count": 64,
   "metadata": {},
   "outputs": [],
   "source": [
    "from sklearn.linear_model import LogisticRegression\n",
    "BaseModel = LogisticRegression(max_iter=1200000)\n",
    "IMBModel = LogisticRegression(max_iter=1200000)"
   ]
  },
  {
   "cell_type": "code",
   "execution_count": 65,
   "metadata": {},
   "outputs": [
    {
     "data": {
      "text/plain": [
       "LogisticRegression(max_iter=1200000)"
      ]
     },
     "execution_count": 65,
     "metadata": {},
     "output_type": "execute_result"
    }
   ],
   "source": [
    "BaseModel.fit(X_BaseTrain, Y_BaseTrain)\n",
    "IMBModel.fit(X_IMBTrain, Y_IMBTrain)"
   ]
  },
  {
   "cell_type": "code",
   "execution_count": 288,
   "metadata": {},
   "outputs": [
    {
     "name": "stdout",
     "output_type": "stream",
     "text": [
      "Accracy of train Base Model: 93.6155119413573 %\n",
      "Accracy of train IMBalanced Model: 90.98192917345912 %\n"
     ]
    }
   ],
   "source": [
    "print(\"Accracy of train Base Model:\",BaseModel.score(X_BaseTrain, Y_BaseTrain)*100,\"%\")\n",
    "print(\"Accracy of train IMBalanced Model:\",IMBModel.score(X_IMBTrain, Y_IMBTrain)*100,\"%\")"
   ]
  },
  {
   "cell_type": "code",
   "execution_count": 289,
   "metadata": {},
   "outputs": [],
   "source": [
    "BaseModel_Pred = BaseModel.predict(X_BaseTest)\n",
    "IMBModel_Pred = IMBModel.predict(X_IMBTest)"
   ]
  },
  {
   "cell_type": "code",
   "execution_count": 290,
   "metadata": {},
   "outputs": [
    {
     "name": "stdout",
     "output_type": "stream",
     "text": [
      "Base model Classifier Accuracy: 93.71954022988506 %\n",
      "IMB model Classifier Accuracy: 91.09007040543821 %\n"
     ]
    }
   ],
   "source": [
    "import sklearn.metrics as metrics\n",
    "print(\"Base model Classifier Accuracy:\",metrics.accuracy_score(Y_BaseTest, BaseModel_Pred)*100,\"%\")\n",
    "print(\"IMB model Classifier Accuracy:\",metrics.accuracy_score(Y_IMBTest, IMBModel_Pred)*100,\"%\")"
   ]
  },
  {
   "cell_type": "code",
   "execution_count": 295,
   "metadata": {},
   "outputs": [
    {
     "data": {
      "text/plain": [
       "69986    yes\n",
       "40806     no\n",
       "52585    yes\n",
       "16278    yes\n",
       "55901    yes\n",
       "        ... \n",
       "40620    yes\n",
       "673       no\n",
       "62811    yes\n",
       "48713    yes\n",
       "3986      no\n",
       "Name: y, Length: 21750, dtype: object"
      ]
     },
     "execution_count": 295,
     "metadata": {},
     "output_type": "execute_result"
    }
   ],
   "source": [
    "Y_BaseTest"
   ]
  },
  {
   "cell_type": "code",
   "execution_count": 298,
   "metadata": {},
   "outputs": [
    {
     "name": "stdout",
     "output_type": "stream",
     "text": [
      "Number of Detractors :  10770\n",
      "Number of Promoters :  10980\n"
     ]
    }
   ],
   "source": [
    "TestCount = pd.DataFrame(Y_BaseTest)\n",
    "numOfDetractor = len(TestCount[TestCount.y == 'no'].index)\n",
    "numOfPromoters = len(TestCount[TestCount.y == 'yes'].index)\n",
    "print('Number of Detractors : ', numOfDetractor)\n",
    "print('Number of Promoters : ', numOfPromoters)"
   ]
  },
  {
   "cell_type": "code",
   "execution_count": 301,
   "metadata": {},
   "outputs": [],
   "source": [
    "import termtables as tt"
   ]
  },
  {
   "cell_type": "code",
   "execution_count": 302,
   "metadata": {},
   "outputs": [
    {
     "name": "stdout",
     "output_type": "stream",
     "text": [
      " ------------------------------------- \n",
      "  User_Type                TotalCount\n",
      " ===================================== \n",
      "  Number of Detractors :   10770\n",
      " ------------------------------------- \n",
      "  Number of Promoters :    10980\n",
      " ------------------------------------- \n"
     ]
    },
    {
     "data": {
      "text/plain": [
       "<AxesSubplot:>"
      ]
     },
     "execution_count": 302,
     "metadata": {},
     "output_type": "execute_result"
    },
    {
     "data": {
      "image/png": "[encoded data removed]",
      "text/plain": [
       "<Figure size 432x288 with 2 Axes>"
      ]
     },
     "metadata": {
      "needs_background": "light"
     },
     "output_type": "display_data"
    }
   ],
   "source": [
    "#Generate Legend\n",
    "string = tt.to_string(\n",
    "    [[\"Number of Detractors :\", numOfDetractor], [\"Number of Promoters :\", numOfPromoters]],\n",
    "    header=[\"User_Type\", \"TotalCount\"],\n",
    "    #style=tt.styles.ascii_thin_double,\n",
    "    style =tt.styles.ascii_booktabs,\n",
    "    # alignment=\"ll\",\n",
    "    # padding=(0, 1),\n",
    ")\n",
    "print(string)\n",
    "\n",
    "#Implement Confusion Matrix\n",
    "import seaborn as sn\n",
    "import pandas as pd\n",
    "import matplotlib.pyplot as plt\n",
    "from sklearn.metrics import confusion_matrix\n",
    "ConfusionMatrix =confusion_matrix(Y_BaseTest, BaseModel_Pred)\n",
    "group_names = ['T_Dectractor','F_Promoter','F_Dectractor','T_Promoter']\n",
    "group_counts = [\"{0:0.0f}\".format(value) for value in\n",
    "                ConfusionMatrix.flatten()]\n",
    "group_percentages = [\"{0:.2%}\".format(value) for value in\n",
    "                     ConfusionMatrix.flatten()/np.sum(ConfusionMatrix)]\n",
    "labels = [f\"{v1}\\n{v2}\\n{v3}\" for v1, v2, v3 in\n",
    "          zip(group_names,group_counts,group_percentages)]\n",
    "labels = np.asarray(labels).reshape(2,2)\n",
    "# Plot Confusion Matrix using sns heat map\n",
    "sns.heatmap(ConfusionMatrix, annot=labels, fmt='', cmap='rocket')"
   ]
  },
  {
   "cell_type": "code",
   "execution_count": null,
   "metadata": {},
   "outputs": [],
   "source": []
  },
  {
   "cell_type": "code",
   "execution_count": null,
   "metadata": {},
   "outputs": [],
   "source": []
  },
  {
   "cell_type": "code",
   "execution_count": null,
   "metadata": {},
   "outputs": [],
   "source": []
  },
  {
   "cell_type": "markdown",
   "metadata": {},
   "source": [
    "---- Try some other alogrithms ----  \n",
    "- RandomForestClsssifider  \n",
    "- GaussianNB  \n",
    "- DecisionTreeClassifier  "
   ]
  },
  {
   "cell_type": "code",
   "execution_count": 303,
   "metadata": {},
   "outputs": [],
   "source": [
    "from sklearn.ensemble import RandomForestClassifier\n",
    "from sklearn.naive_bayes import GaussianNB\n",
    "from sklearn.tree import DecisionTreeClassifier\n",
    "from sklearn import svm"
   ]
  },
  {
   "cell_type": "code",
   "execution_count": 319,
   "metadata": {},
   "outputs": [],
   "source": [
    "ClassifierModels = []\n",
    "\n",
    "RFClassifierModel = RandomForestClassifier(criterion = 'entropy', n_estimators = 10,  random_state = 0)\n",
    "ClassifierModels.append(RFClassifierModel)\n",
    "NBModel = GaussianNB()\n",
    "ClassifierModels.append(NBModel)\n",
    "DecisionTreeModel = DecisionTreeClassifier(criterion = 'entropy')\n",
    "ClassifierModels.append(DecisionTreeModel)\n",
    "#Create a svm Classifier\n",
    "#SVMClassifer = svm.SVC(kernel='linear') # Linear Kernel\n",
    "#ClassifierModels.append(SVMClassifer)"
   ]
  },
  {
   "cell_type": "code",
   "execution_count": 321,
   "metadata": {},
   "outputs": [
    {
     "name": "stdout",
     "output_type": "stream",
     "text": [
      "\n",
      "\n",
      "------------- RandomForestClassifier(criterion='entropy', n_estimators=10, random_state=0) -----------------\n",
      "\n",
      "Accuracy  RandomForestClassifier(criterion='entropy', n_estimators=10, random_state=0) is :  0.9497011494252874\n",
      "[[10234   536]\n",
      " [  558 10422]]\n",
      "\n",
      "\n",
      "------------- GaussianNB() -----------------\n",
      "\n",
      "Accuracy  GaussianNB() is :  0.8709885057471264\n",
      "[[9047 1723]\n",
      " [1083 9897]]\n",
      "\n",
      "\n",
      "------------- DecisionTreeClassifier(criterion='entropy') -----------------\n",
      "\n",
      "Accuracy  DecisionTreeClassifier(criterion='entropy') is :  0.9335632183908046\n",
      "[[ 9972   798]\n",
      " [  647 10333]]\n"
     ]
    },
    {
     "data": {
      "image/png": "[encoded data removed]",
      "text/plain": [
       "<Figure size 432x288 with 4 Axes>"
      ]
     },
     "metadata": {
      "needs_background": "light"
     },
     "output_type": "display_data"
    }
   ],
   "source": [
    "Prediction = []\n",
    "for ClassifierModelName in ClassifierModels:\n",
    "    \n",
    "    print(\"\\n\\n-------------\",ClassifierModelName,\"-----------------\\n\")\n",
    "    \n",
    "    ClassifierModelName.fit(X_BaseTrain, Y_BaseTrain)\n",
    "    y_Pred= ClassifierModelName.predict(X_BaseTest)\n",
    "    Prediction.append(y_Pred)\n",
    "    Accuracy = metrics.accuracy_score(Y_BaseTest, y_Pred)\n",
    "\n",
    "    print(\"Accuracy \",ClassifierModelName,\"is : \",Accuracy)\n",
    "    ConfusionMatrix1 =confusion_matrix(Y_BaseTest, y_Pred)\n",
    "    print(ConfusionMatrix1)\n",
    "    sns.heatmap(ConfusionMatrix1, annot=labels, fmt='', cmap='rocket')"
   ]
  },
  {
   "cell_type": "code",
   "execution_count": 306,
   "metadata": {},
   "outputs": [
    {
     "name": "stdout",
     "output_type": "stream",
     "text": [
      "\n",
      "\n",
      "------------- RandomForestClassifier(criterion='entropy', n_estimators=10, random_state=0) -----------------\n",
      "\n",
      "Accuracy  RandomForestClassifier(criterion='entropy', n_estimators=10, random_state=0) is :  0.9079873755765963\n",
      "\n",
      "\n",
      "------------- GaussianNB() -----------------\n",
      "\n",
      "Accuracy  GaussianNB() is :  0.8763453912761997\n",
      "\n",
      "\n",
      "------------- DecisionTreeClassifier(criterion='entropy') -----------------\n",
      "\n",
      "Accuracy  DecisionTreeClassifier(criterion='entropy') is :  0.8929351784413693\n",
      "\n",
      "\n",
      "------------- SVC(kernel='linear') -----------------\n",
      "\n",
      "Accuracy  SVC(kernel='linear') is :  0.8994092417253379\n"
     ]
    }
   ],
   "source": [
    "PredictionIMB = []\n",
    "for ClassifierModelName in ClassifierModels:\n",
    "    \n",
    "    print(\"\\n\\n-------------\",ClassifierModelName,\"-----------------\\n\")\n",
    "    \n",
    "    ClassifierModelName.fit(X_IMBTrain, Y_IMBTrain)\n",
    "    y_Pred= ClassifierModelName.predict(X_IMBTest)\n",
    "    PredictionIMB.append(y_Pred)\n",
    "    Accuracy = metrics.accuracy_score(Y_IMBTest, y_Pred)\n",
    "\n",
    "    print(\"Accuracy \",ClassifierModelName,\"is : \",Accuracy)\n",
    "    ConfusionMatrix =confusion_matrix(Y_IMBTest, y_Pred)\n",
    "    print(ConfusionMatrix)"
   ]
  },
  {
   "cell_type": "markdown",
   "metadata": {},
   "source": [
    "### Model Evaluation"
   ]
  },
  {
   "cell_type": "code",
   "execution_count": 313,
   "metadata": {},
   "outputs": [
    {
     "name": "stdout",
     "output_type": "stream",
     "text": [
      "['yes' 'yes' 'yes' ... 'yes' 'yes' 'no']\n",
      "0\n",
      "['yes' 'yes' 'yes' ... 'yes' 'yes' 'no']\n",
      "1\n",
      "['yes' 'no' 'yes' ... 'yes' 'yes' 'no']\n",
      "2\n",
      "['yes' 'yes' 'no' ... 'no' 'yes' 'no']\n",
      "3\n"
     ]
    }
   ],
   "source": [
    "count = 0\n",
    "for i in Prediction:\n",
    "    print(i)\n",
    "    print(count)\n",
    "    count = count + 1"
   ]
  },
  {
   "cell_type": "code",
   "execution_count": 314,
   "metadata": {},
   "outputs": [
    {
     "name": "stdout",
     "output_type": "stream",
     "text": [
      "Number of Detractors :  21750\n",
      "Number of Promoters :  21750\n",
      " ------------------------------------- \n",
      "  User_Type                TotalCount\n",
      " ===================================== \n",
      "  Number of Detractors :   21750\n",
      " ------------------------------------- \n",
      "  Number of Promoters :    21750\n",
      " ------------------------------------- \n",
      "Number of Detractors :  21750\n",
      "Number of Promoters :  21750\n",
      " ------------------------------------- \n",
      "  User_Type                TotalCount\n",
      " ===================================== \n",
      "  Number of Detractors :   21750\n",
      " ------------------------------------- \n",
      "  Number of Promoters :    21750\n",
      " ------------------------------------- \n",
      "Number of Detractors :  21750\n",
      "Number of Promoters :  21750\n",
      " ------------------------------------- \n",
      "  User_Type                TotalCount\n",
      " ===================================== \n",
      "  Number of Detractors :   21750\n",
      " ------------------------------------- \n",
      "  Number of Promoters :    21750\n",
      " ------------------------------------- \n",
      "Number of Detractors :  21750\n",
      "Number of Promoters :  21750\n",
      " ------------------------------------- \n",
      "  User_Type                TotalCount\n",
      " ===================================== \n",
      "  Number of Detractors :   21750\n",
      " ------------------------------------- \n",
      "  Number of Promoters :    21750\n",
      " ------------------------------------- \n"
     ]
    }
   ],
   "source": [
    "for i in Prediction: \n",
    "    TestCount = pd.DataFrame(i)\n",
    "    numOfDetractor = len(TestCount[TestCount == 'no'].index)\n",
    "    numOfPromoters = len(TestCount[TestCount == 'yes'].index)\n",
    "    print('Number of Detractors : ', numOfDetractor)\n",
    "    print('Number of Promoters : ', numOfPromoters)\n",
    "    #Generate Legend\n",
    "    string = tt.to_string(\n",
    "        [[\"Number of Detractors :\", numOfDetractor], [\"Number of Promoters :\", numOfPromoters]],\n",
    "        header=[\"User_Type\", \"TotalCount\"],\n",
    "        #style=tt.styles.ascii_thin_double,\n",
    "        style =tt.styles.ascii_booktabs,\n",
    "        # alignment=\"ll\",\n",
    "        # padding=(0, 1),\n",
    "    )\n",
    "    print(string)"
   ]
  },
  {
   "cell_type": "code",
   "execution_count": 317,
   "metadata": {},
   "outputs": [
    {
     "name": "stdout",
     "output_type": "stream",
     "text": [
      "Number of Detractors :  21750\n",
      "Number of Promoters :  21750\n",
      " ------------------------------------- \n",
      "  User_Type                TotalCount\n",
      " ===================================== \n",
      "  Number of Detractors :   21750\n",
      " ------------------------------------- \n",
      "  Number of Promoters :    21750\n",
      " ------------------------------------- \n",
      "[[10234   536]\n",
      " [  558 10422]]\n",
      "Number of Detractors :  21750\n",
      "Number of Promoters :  21750\n",
      " ------------------------------------- \n",
      "  User_Type                TotalCount\n",
      " ===================================== \n",
      "  Number of Detractors :   21750\n",
      " ------------------------------------- \n",
      "  Number of Promoters :    21750\n",
      " ------------------------------------- \n",
      "[[9047 1723]\n",
      " [1083 9897]]\n",
      "Number of Detractors :  21750\n",
      "Number of Promoters :  21750\n",
      " ------------------------------------- \n",
      "  User_Type                TotalCount\n",
      " ===================================== \n",
      "  Number of Detractors :   21750\n",
      " ------------------------------------- \n",
      "  Number of Promoters :    21750\n",
      " ------------------------------------- \n",
      "[[ 9967   803]\n",
      " [  653 10327]]\n",
      "Number of Detractors :  21750\n",
      "Number of Promoters :  21750\n",
      " ------------------------------------- \n",
      "  User_Type                TotalCount\n",
      " ===================================== \n",
      "  Number of Detractors :   21750\n",
      " ------------------------------------- \n",
      "  Number of Promoters :    21750\n",
      " ------------------------------------- \n",
      "[[10293   477]\n",
      " [ 2257  8723]]\n"
     ]
    },
    {
     "data": {
      "image/png": "[encoded data removed]",
      "text/plain": [
       "<Figure size 432x288 with 5 Axes>"
      ]
     },
     "metadata": {
      "needs_background": "light"
     },
     "output_type": "display_data"
    }
   ],
   "source": [
    "import seaborn as sn\n",
    "import pandas as pd\n",
    "import matplotlib.pyplot as plt\n",
    "from sklearn.metrics import confusion_matrix\n",
    "\n",
    "for i in Prediction: \n",
    "    TestCount = pd.DataFrame(i)\n",
    "    numOfDetractor = len(TestCount[TestCount == 'no'].index)\n",
    "    numOfPromoters = len(TestCount[TestCount == 'yes'].index)\n",
    "    print('Number of Detractors : ', numOfDetractor)\n",
    "    print('Number of Promoters : ', numOfPromoters)\n",
    "    #Generate Legend\n",
    "    string = tt.to_string(\n",
    "        [[\"Number of Detractors :\", numOfDetractor], [\"Number of Promoters :\", numOfPromoters]],\n",
    "        header=[\"User_Type\", \"TotalCount\"],\n",
    "        #style=tt.styles.ascii_thin_double,\n",
    "        style =tt.styles.ascii_booktabs,\n",
    "        # alignment=\"ll\",\n",
    "        # padding=(0, 1),\n",
    "    )\n",
    "    print(string)\n",
    "\n",
    "    #Implement Confusion Matrix\n",
    "\n",
    "    ConfusionMatrix =confusion_matrix(Y_BaseTest, i)\n",
    "    group_names = ['T_Dectractor','F_Promoter','F_Dectractor','T_Promoter']\n",
    "    group_counts = [\"{0:0.0f}\".format(value) for value in\n",
    "                    ConfusionMatrix.flatten()]\n",
    "    group_percentages = [\"{0:.2%}\".format(value) for value in\n",
    "                         ConfusionMatrix.flatten()/np.sum(ConfusionMatrix)]\n",
    "    labels = [f\"{v1}\\n{v2}\\n{v3}\" for v1, v2, v3 in\n",
    "              zip(group_names,group_counts,group_percentages)]\n",
    "    labels = np.asarray(labels).reshape(2,2)\n",
    "    print(ConfusionMatrix)\n",
    "    # Plot Confusion Matrix using sns heat map\n",
    "    sns.heatmap(ConfusionMatrix, annot=labels, fmt='', cmap='rocket')"
   ]
  },
  {
   "cell_type": "code",
   "execution_count": null,
   "metadata": {},
   "outputs": [],
   "source": []
  },
  {
   "cell_type": "code",
   "execution_count": null,
   "metadata": {},
   "outputs": [],
   "source": []
  },
  {
   "cell_type": "markdown",
   "metadata": {},
   "source": [
    "# Deployment"
   ]
  },
  {
   "cell_type": "code",
   "execution_count": null,
   "metadata": {},
   "outputs": [],
   "source": []
  },
  {
   "cell_type": "code",
   "execution_count": null,
   "metadata": {},
   "outputs": [],
   "source": []
  },
  {
   "cell_type": "code",
   "execution_count": null,
   "metadata": {},
   "outputs": [],
   "source": []
  },
  {
   "cell_type": "code",
   "execution_count": null,
   "metadata": {},
   "outputs": [],
   "source": []
  },
  {
   "cell_type": "code",
   "execution_count": null,
   "metadata": {},
   "outputs": [],
   "source": []
  },
  {
   "cell_type": "code",
   "execution_count": null,
   "metadata": {},
   "outputs": [],
   "source": []
  }
 ],
 "metadata": {
  "kernelspec": {
   "display_name": "Python 3",
   "language": "python",
   "name": "python3"
  },
  "language_info": {
   "codemirror_mode": {
    "name": "ipython",
    "version": 3
   },
   "file_extension": ".py",
   "mimetype": "text/x-python",
   "name": "python",
   "nbconvert_exporter": "python",
   "pygments_lexer": "ipython3",
   "version": "3.7.7"
  }
 },
 "nbformat": 4,
 "nbformat_minor": 4
}
